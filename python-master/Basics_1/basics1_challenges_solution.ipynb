{
 "cells": [
  {
   "cell_type": "markdown",
   "metadata": {},
   "source": [
    "# Mini Challenge I"
   ]
  },
  {
   "cell_type": "markdown",
   "metadata": {},
   "source": [
    "### Create a string variable:\n",
    "Hey {your name}, Star Wars is way better than Star Trek!"
   ]
  },
  {
   "cell_type": "code",
   "execution_count": 1,
   "metadata": {},
   "outputs": [],
   "source": [
    "sentence = \"Hey Peter, Star Wars is way better than Star Trek!\""
   ]
  },
  {
   "cell_type": "markdown",
   "metadata": {},
   "source": [
    "### Convert everything to lowercase"
   ]
  },
  {
   "cell_type": "code",
   "execution_count": 2,
   "metadata": {},
   "outputs": [
    {
     "name": "stdout",
     "output_type": "stream",
     "text": [
      "Original: Hey Peter, Star Wars is way better than Star Trek!\n",
      "Lowercase: hey peter, star wars is way better than star trek!\n"
     ]
    }
   ],
   "source": [
    "sentence_lowercase = sentence.lower()\n",
    "\n",
    "# Attention: original variable remains unchanged!\n",
    "print(\"Original:\", sentence)\n",
    "print(\"Lowercase:\", sentence_lowercase)"
   ]
  },
  {
   "cell_type": "markdown",
   "metadata": {},
   "source": [
    "### Slice the word - Star Wars - out of original string and save in new string variable"
   ]
  },
  {
   "cell_type": "code",
   "execution_count": 3,
   "metadata": {},
   "outputs": [
    {
     "name": "stdout",
     "output_type": "stream",
     "text": [
      "Sliced word: Star Wars\n"
     ]
    }
   ],
   "source": [
    "sliced_word = sentence[11:20]\n",
    "\n",
    "print(\"Sliced word:\", sliced_word)"
   ]
  },
  {
   "cell_type": "markdown",
   "metadata": {},
   "source": [
    "### Format the newly created in the new string:\n",
    "OMG, you’re right, {here} is way better!\n"
   ]
  },
  {
   "cell_type": "code",
   "execution_count": 4,
   "metadata": {},
   "outputs": [
    {
     "name": "stdout",
     "output_type": "stream",
     "text": [
      "OMG, you're right, Star Wars is way better!\n"
     ]
    }
   ],
   "source": [
    "answer = f\"OMG, you're right, {sliced_word} is way better!\"\n",
    "\n",
    "# Old school:\n",
    "# answer = \"OMG, you're right, {} is way better!\".format(sliced_word)\n",
    "\n",
    "print(answer)"
   ]
  },
  {
   "cell_type": "markdown",
   "metadata": {},
   "source": [
    "### And finally add \"better\" 10 times to your last string\n",
    "OMG, you’re right, STAR WARS is way better, better, better, better,...., better!"
   ]
  },
  {
   "cell_type": "code",
   "execution_count": 5,
   "metadata": {},
   "outputs": [
    {
     "name": "stdout",
     "output_type": "stream",
     "text": [
      "OMG, you're right, Star Wars is way better, better, better, better, better, better, better, better, better, better, better!\n"
     ]
    }
   ],
   "source": [
    "answer_final = answer[:-1] + \", better\" * 10 + answer[-1]\n",
    "\n",
    "print(answer_final)"
   ]
  },
  {
   "cell_type": "markdown",
   "metadata": {},
   "source": [
    "# Mini Challenge II\n",
    "\n",
    "1. Create a list with 4 random numbers:"
   ]
  },
  {
   "cell_type": "code",
   "execution_count": 35,
   "metadata": {},
   "outputs": [
    {
     "data": {
      "text/plain": [
       "[80, 66, 60, 57]"
      ]
     },
     "execution_count": 35,
     "metadata": {},
     "output_type": "execute_result"
    }
   ],
   "source": [
    "import random\n",
    "list_1=[]\n",
    "for i in range(4):\n",
    "    list_1.append(random.randrange(1, 100))\n",
    "list_1"
   ]
  },
  {
   "cell_type": "markdown",
   "metadata": {},
   "source": [
    "2. Change the values of the list by using list\n",
    "comprehension (e.g. multiply by 3):"
   ]
  },
  {
   "cell_type": "code",
   "execution_count": 36,
   "metadata": {},
   "outputs": [
    {
     "data": {
      "text/plain": [
       "[160, 132, 120, 114]"
      ]
     },
     "execution_count": 36,
     "metadata": {},
     "output_type": "execute_result"
    }
   ],
   "source": [
    "list_2 = [x*2 for x in list_1]\n",
    "list_2"
   ]
  },
  {
   "cell_type": "markdown",
   "metadata": {},
   "source": [
    "3. Insert a new element and then sort the list\n",
    "from top to down"
   ]
  },
  {
   "cell_type": "markdown",
   "metadata": {},
   "source": [
    "Hint: \n",
    "    Here are some common list methods.\n",
    "list.append(elem) -- adds a single element to the end of the list. ...\n",
    "list.insert(index, elem) -- inserts the element at the given index, shifting elements to the right.\n",
    "list.extend(list2) adds the elements in list2 to the end of the list."
   ]
  },
  {
   "cell_type": "code",
   "execution_count": 37,
   "metadata": {},
   "outputs": [
    {
     "data": {
      "text/plain": [
       "[160, 132, 120, 114, 5]"
      ]
     },
     "execution_count": 37,
     "metadata": {},
     "output_type": "execute_result"
    }
   ],
   "source": [
    "list_2.append(5) #adding an element to the end of the list\n",
    "list_2"
   ]
  },
  {
   "cell_type": "code",
   "execution_count": 38,
   "metadata": {},
   "outputs": [
    {
     "data": {
      "text/plain": [
       "[5, 114, 120, 132, 160]"
      ]
     },
     "execution_count": 38,
     "metadata": {},
     "output_type": "execute_result"
    }
   ],
   "source": [
    "list_2.sort() # sorting the list\n",
    "list_2"
   ]
  },
  {
   "cell_type": "code",
   "execution_count": 39,
   "metadata": {},
   "outputs": [
    {
     "data": {
      "text/plain": [
       "[160, 132, 120, 114, 5]"
      ]
     },
     "execution_count": 39,
     "metadata": {},
     "output_type": "execute_result"
    }
   ],
   "source": [
    "list_2.reverse() #From top to bottom\n",
    "list_2"
   ]
  },
  {
   "cell_type": "markdown",
   "metadata": {},
   "source": [
    "4. Create a new list with 5 names:"
   ]
  },
  {
   "cell_type": "code",
   "execution_count": 40,
   "metadata": {},
   "outputs": [
    {
     "data": {
      "text/plain": [
       "['Xavi', 'Vincent', 'Hamid', 'Stefan', 'Alex']"
      ]
     },
     "execution_count": 40,
     "metadata": {},
     "output_type": "execute_result"
    }
   ],
   "source": [
    "list_3= ['Xavi', \"Vincent\", \"Hamid\", \"Stefan\", \"Alex\"]\n",
    "list_3"
   ]
  },
  {
   "cell_type": "code",
   "execution_count": 41,
   "metadata": {},
   "outputs": [
    {
     "data": {
      "text/plain": [
       "{'Xavi': 160, 'Vincent': 132, 'Hamid': 120, 'Stefan': 114, 'Alex': 5}"
      ]
     },
     "execution_count": 41,
     "metadata": {},
     "output_type": "execute_result"
    }
   ],
   "source": [
    "dictionary_1 = dict(zip(list_3, list_2)) #list_3 is the keis and list_2 is the values\n",
    "dictionary_1"
   ]
  },
  {
   "cell_type": "markdown",
   "metadata": {},
   "source": [
    "5. Create a second dictionary with random\n",
    "keys and values"
   ]
  },
  {
   "cell_type": "code",
   "execution_count": 42,
   "metadata": {},
   "outputs": [
    {
     "data": {
      "text/plain": [
       "{'height': 180, 'weight': 78, 'GPA': 1.3}"
      ]
     },
     "execution_count": 42,
     "metadata": {},
     "output_type": "execute_result"
    }
   ],
   "source": [
    "dictionary_2 = {'height': 180, 'weight': 78, 'GPA': 1.3}\n",
    "dictionary_2"
   ]
  },
  {
   "cell_type": "markdown",
   "metadata": {},
   "source": [
    "6. Create a tuple containing the two\n",
    "dictionaries"
   ]
  },
  {
   "cell_type": "code",
   "execution_count": 43,
   "metadata": {},
   "outputs": [
    {
     "data": {
      "text/plain": [
       "({'Xavi': 160, 'Vincent': 132, 'Hamid': 120, 'Stefan': 114, 'Alex': 5},\n",
       " {'height': 180, 'weight': 78, 'GPA': 1.3})"
      ]
     },
     "execution_count": 43,
     "metadata": {},
     "output_type": "execute_result"
    }
   ],
   "source": [
    "tupel_1 = (dictionary_1, dictionary_2)\n",
    "tupel_1"
   ]
  },
  {
   "cell_type": "markdown",
   "metadata": {},
   "source": [
    "7. Last but not least, change the element of the\n",
    "first key (first tuple element) to “LOL”"
   ]
  },
  {
   "cell_type": "code",
   "execution_count": 44,
   "metadata": {},
   "outputs": [
    {
     "name": "stdout",
     "output_type": "stream",
     "text": [
      "Tuples are immutable!!!\n"
     ]
    }
   ],
   "source": [
    "print(\"Tuples are immutable!!!\")"
   ]
  }
 ],
 "metadata": {
  "kernelspec": {
   "display_name": "Python 3",
   "language": "python",
   "name": "python3"
  },
  "language_info": {
   "codemirror_mode": {
    "name": "ipython",
    "version": 3
   },
   "file_extension": ".py",
   "mimetype": "text/x-python",
   "name": "python",
   "nbconvert_exporter": "python",
   "pygments_lexer": "ipython3",
   "version": "3.7.3"
  }
 },
 "nbformat": 4,
 "nbformat_minor": 2
}
