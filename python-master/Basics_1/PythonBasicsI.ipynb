{
 "cells": [
  {
   "cell_type": "markdown",
   "metadata": {},
   "source": [
    "# How to use this Jupyter notebook?!\n"
   ]
  },
  {
   "cell_type": "markdown",
   "metadata": {},
   "source": [
    "## INFO"
   ]
  },
  {
   "cell_type": "markdown",
   "metadata": {},
   "source": [
    "First of all, press the __\"H\"__ on your keyboard. This is the Jupyter Notebook cheatsheet. ;)"
   ]
  },
  {
   "cell_type": "markdown",
   "metadata": {},
   "source": [
    "In Jupyter Notebook, you are in __command__ or __edit__ mode. The green sourrounding indicates that you are in the editing mode. The blue one shows that you are in the command mode. Furthermore, there are __code__ cells and __markdown cells__. This cell is a markdown cell, because you can use it to add description to your notebook. Because it is a markdown cell, you can use the common markdown languages in it, such as HTML/CSS.\n",
    "\n",
    "You can switch between the to modes by exiting with ESC. Further you can then press \"M\" for markdown or \"Y\" for the code cell.\n",
    "\n",
    "The code cell is for running your code. The number indicates when you ran your code. The highest number on the left shows which one was the most recent. You can run your code with the _run_ button in the task bar. You can also use the shortcut described in the cheatsheet. \n",
    "\n",
    "If your Jupyter Notebook freezes or your command throws error for no reason than you might have to restart the kernel. But careful, all the variables which you declared in your notebook so far will get deleted. So you have to run the cells again to have them back.\n",
    "\n",
    "You can only run your code in command mode. In addition, you can add or delete/copy cells with \"A\", \"B\", \"X\" or \"C\". But you have to be in command mode. \n",
    "\n",
    "If you have any questions, check out the backup slides in the presentation or just ask us. Have fun ;)"
   ]
  },
  {
   "cell_type": "markdown",
   "metadata": {},
   "source": [
    "## But now, it is time for PYTHON..."
   ]
  },
  {
   "cell_type": "markdown",
   "metadata": {},
   "source": [
    "For motivation purpose: https://www.youtube.com/watch?v=ZXsQAXx_ao0! HA Ha HAAAA..."
   ]
  },
  {
   "cell_type": "markdown",
   "metadata": {},
   "source": [
    "# Introduction to Python\n"
   ]
  },
  {
   "cell_type": "markdown",
   "metadata": {},
   "source": [
    "This notebook not only will introduce you to the fundamental concepts of Python programming, but also give you the chance to work on challenges which help you to improve your problem solving skills.\n",
    "\n",
    "We will cover the following topics:\n",
    "\n",
    "* Data types\n",
    "    * Numbers\n",
    "    * Strings\n",
    "    * Printing\n",
    "    * Lists\n",
    "    * Dictionaries\n",
    "    * Booleans\n",
    "    * Tuples \n",
    "    * Sets\n",
    "* Comparison Operators\n",
    "* if,elif, else Statements\n",
    "* for Loops\n",
    "* while Loops\n",
    "* range()\n",
    "* list comprehension\n",
    "* functions\n",
    "* lambda expressions\n",
    "* map and filter\n",
    "* methods\n"
   ]
  },
  {
   "cell_type": "markdown",
   "metadata": {},
   "source": [
    "## Numbers"
   ]
  },
  {
   "cell_type": "markdown",
   "metadata": {},
   "source": [
    "In Python, there are 3 different data types for numbers. There are integers, floating point numbers and complex numbers.\n",
    "    "
   ]
  },
  {
   "cell_type": "code",
   "execution_count": null,
   "metadata": {},
   "outputs": [],
   "source": [
    "a = 5 # a is a variable which holds the integer value of 5\n",
    "b = 2.7 # b is a variable which holds the float value of 2.7\n"
   ]
  },
  {
   "cell_type": "markdown",
   "metadata": {},
   "source": [
    "Of course, you can use various math operations for your numbers. Here, we just present the basic ones. "
   ]
  },
  {
   "cell_type": "code",
   "execution_count": 14,
   "metadata": {},
   "outputs": [
    {
     "name": "stdout",
     "output_type": "stream",
     "text": [
      "15 \n",
      "\n",
      "49 \n",
      "\n",
      "36 \n",
      "\n",
      "50 \n",
      "\n",
      "2 \n",
      "\n",
      "8 \n",
      "\n",
      "2 \n",
      "\n",
      "5.25 \n",
      "\n",
      "4.0 \n",
      "\n"
     ]
    }
   ],
   "source": [
    "num1 = 5\n",
    "num2 = 10 \n",
    "num3 = num1 + num2 # Addition\n",
    "print(num3, \"\\n\")\n",
    "\n",
    "num1 = 56\n",
    "num2 = 7\n",
    "num3 = num1 - num2 # Substraction\n",
    "print(num3, \"\\n\")\n",
    "\n",
    "num1 = 3\n",
    "num2 = 12\n",
    "num3 = num1 * num2 # Multiplication\n",
    "print(num3, \"\\n\")\n",
    "\n",
    "num1 = 10\n",
    "num2 = 5\n",
    "num3 = num1 * num2 # Division\n",
    "print(num3, \"\\n\")\n",
    "\n",
    "num1 = 20\n",
    "num2 = 9 \n",
    "num3 = num1 % num2 # Modulus\n",
    "print(num3, \"\\n\")\n",
    "\n",
    "num1 = 2\n",
    "num2 = 3 \n",
    "num3 = num1 ** num2 # Exponent\n",
    "print(num3, \"\\n\")\n",
    "\n",
    "num1 = 10\n",
    "num2 = 4 \n",
    "num3 = num1 // num2 # floor\n",
    "print(num3, \"\\n\")\n",
    "\n",
    "\n",
    "num1 = 10.50\n",
    "num2 = 2\n",
    "num3 = num1 / num2 # Division Type 1\n",
    "print(num3, \"\\n\")\n",
    "\n",
    "num1 = 10\n",
    "num2 = 2.5\n",
    "num3 = num1 / num2 # Division Type 2\n",
    "print(num3, \"\\n\")\n"
   ]
  },
  {
   "cell_type": "markdown",
   "metadata": {},
   "source": [
    "Sometimes, you want to change a numbers datatypes. For example you want to transform a floating point number to a integer. Python presents some methods in order to do so"
   ]
  },
  {
   "cell_type": "code",
   "execution_count": 15,
   "metadata": {},
   "outputs": [
    {
     "name": "stdout",
     "output_type": "stream",
     "text": [
      "5 \n",
      "\n",
      "5.0 \n",
      "\n"
     ]
    }
   ],
   "source": [
    "num1 = 5.234\n",
    "num1 = int(num1) # Casts floating point number to integer\n",
    "\n",
    "print(num1, \"\\n\")\n",
    "\n",
    "num1 = 5\n",
    "num1 = float(num1) # Casts integer number to float\n",
    "\n",
    "print(num1, \"\\n\")\n"
   ]
  },
  {
   "cell_type": "markdown",
   "metadata": {},
   "source": [
    "## String Operators\n"
   ]
  },
  {
   "cell_type": "markdown",
   "metadata": {},
   "source": [
    "## Concatenation"
   ]
  },
  {
   "cell_type": "markdown",
   "metadata": {},
   "source": [
    "Adds a value on both sides of the operator. "
   ]
  },
  {
   "cell_type": "code",
   "execution_count": 10,
   "metadata": {},
   "outputs": [
    {
     "name": "stdout",
     "output_type": "stream",
     "text": [
      "HelloPython Master!\n"
     ]
    }
   ],
   "source": [
    "string1 = \"Hello\"\n",
    "string2 = \"Python Master!\"\n",
    "stringsum = string1 + string2\n",
    "print(stringsum)"
   ]
  },
  {
   "cell_type": "markdown",
   "metadata": {},
   "source": [
    "## Repetition"
   ]
  },
  {
   "cell_type": "code",
   "execution_count": 13,
   "metadata": {},
   "outputs": [
    {
     "name": "stdout",
     "output_type": "stream",
     "text": [
      "moviesmovies\n"
     ]
    }
   ],
   "source": [
    "string1 = \"movies\"\n",
    "string1 = string1 * 2\n",
    "print(string1)"
   ]
  },
  {
   "cell_type": "markdown",
   "metadata": {},
   "source": [
    "## String Slicing"
   ]
  },
  {
   "cell_type": "markdown",
   "metadata": {},
   "source": [
    "Slices through the string like in a list. Range slice gives you the characters from a given range where just the index gives you the referring character"
   ]
  },
  {
   "cell_type": "code",
   "execution_count": 15,
   "metadata": {},
   "outputs": [
    {
     "name": "stdout",
     "output_type": "stream",
     "text": [
      "Hier ist der Index 1: A\n",
      "Hier ist der Index 2: n\n",
      "Hier ist die Range 1: pfe\n",
      "Hier ist die Range 2: Apfel\n"
     ]
    }
   ],
   "source": [
    "string1 = \"Apfelkuchen\"\n",
    "index1 = string1[0]\n",
    "index2 = string1[-1]\n",
    "range1 = string1[1:4]\n",
    "range2 = string1[:5]\n",
    "\n",
    "print(\"Hier ist der Index 1: \" + index1)\n",
    "print(\"Hier ist der Index 2: \" + index2)\n",
    "print(\"Hier ist die Range 1: \" + range1)\n",
    "print(\"Hier ist die Range 2: \" + range2)"
   ]
  },
  {
   "cell_type": "markdown",
   "metadata": {},
   "source": [
    "## Membership \"in\""
   ]
  },
  {
   "cell_type": "markdown",
   "metadata": {},
   "source": [
    "Checks if the character exists in the given string and return True if that is the case!"
   ]
  },
  {
   "cell_type": "code",
   "execution_count": 18,
   "metadata": {},
   "outputs": [
    {
     "name": "stdout",
     "output_type": "stream",
     "text": [
      "True\n"
     ]
    }
   ],
   "source": [
    "string3 = \"Allerlei Sachen\"\n",
    "cond1 = \"All\" in string3\n",
    "print(cond1)"
   ]
  },
  {
   "cell_type": "markdown",
   "metadata": {},
   "source": [
    "## String Formatting"
   ]
  },
  {
   "cell_type": "markdown",
   "metadata": {},
   "source": [
    "There are 2 ways to in order to format your strings. The difference comes from the different versions of python. In python 3, \"f-strings\" are introduced for the first time. "
   ]
  },
  {
   "cell_type": "markdown",
   "metadata": {},
   "source": [
    "### Old Formatting Style "
   ]
  },
  {
   "cell_type": "code",
   "execution_count": 19,
   "metadata": {},
   "outputs": [
    {
     "name": "stdout",
     "output_type": "stream",
     "text": [
      "I have 10 favorite movies.\n"
     ]
    }
   ],
   "source": [
    "num = 10\n",
    "string4 = \"I have {} favorite movies.\".format(num)\n",
    "print(string4)"
   ]
  },
  {
   "cell_type": "markdown",
   "metadata": {},
   "source": [
    "### F-Strings Style "
   ]
  },
  {
   "cell_type": "code",
   "execution_count": 21,
   "metadata": {},
   "outputs": [
    {
     "name": "stdout",
     "output_type": "stream",
     "text": [
      "I have 10 favorite movies.\n"
     ]
    }
   ],
   "source": [
    "num = 10\n",
    "string4 = f\"I have {num} favorite movies.\"\n",
    "print(string4)"
   ]
  },
  {
   "cell_type": "markdown",
   "metadata": {},
   "source": [
    "## Mini Challenge I"
   ]
  },
  {
   "cell_type": "markdown",
   "metadata": {},
   "source": [
    "### Create a string variable:\n",
    "Hey {your name}, Star Wars is way better than Star Trek!"
   ]
  },
  {
   "cell_type": "code",
   "execution_count": null,
   "metadata": {},
   "outputs": [],
   "source": []
  },
  {
   "cell_type": "markdown",
   "metadata": {},
   "source": [
    "### Convert everything to lowercase"
   ]
  },
  {
   "cell_type": "code",
   "execution_count": null,
   "metadata": {},
   "outputs": [],
   "source": []
  },
  {
   "cell_type": "markdown",
   "metadata": {},
   "source": [
    "### Slice the word - Star Wars - out of original string and save in new string variable"
   ]
  },
  {
   "cell_type": "code",
   "execution_count": null,
   "metadata": {},
   "outputs": [],
   "source": []
  },
  {
   "cell_type": "markdown",
   "metadata": {},
   "source": [
    "### Format the newly created in the new string:\n",
    "OMG, you’re right, {here} is way better!\n"
   ]
  },
  {
   "cell_type": "code",
   "execution_count": null,
   "metadata": {},
   "outputs": [],
   "source": []
  },
  {
   "cell_type": "markdown",
   "metadata": {},
   "source": [
    "### And finally add \"better\" 10 times to your last string\n",
    "OMG, you’re right, STAR WARS is way better, better, better, better,...., better!"
   ]
  },
  {
   "cell_type": "code",
   "execution_count": null,
   "metadata": {},
   "outputs": [],
   "source": []
  },
  {
   "cell_type": "markdown",
   "metadata": {},
   "source": [
    "## List Comprehension"
   ]
  },
  {
   "cell_type": "markdown",
   "metadata": {},
   "source": [
    "Each list comprehension contains an _expression_ and then _for_ clause. "
   ]
  },
  {
   "cell_type": "code",
   "execution_count": 22,
   "metadata": {},
   "outputs": [
    {
     "name": "stdout",
     "output_type": "stream",
     "text": [
      "[2, 3, 4, 5, 6]\n"
     ]
    }
   ],
   "source": [
    "list1 = [1,2,3,4,5]\n",
    "list2 = [x+1 for x in list1]\n",
    "print(list2)"
   ]
  },
  {
   "cell_type": "code",
   "execution_count": 23,
   "metadata": {},
   "outputs": [
    {
     "name": "stdout",
     "output_type": "stream",
     "text": [
      "[4, 6, 8, 10, 12]\n"
     ]
    }
   ],
   "source": [
    "list1 = [1,2,3,4,5]\n",
    "list2 = [x+1 for x in list1]\n",
    "list3 = [x*2 for x in list2]\n",
    "print(list3)"
   ]
  },
  {
   "cell_type": "markdown",
   "metadata": {},
   "source": [
    "## List Operations\n"
   ]
  },
  {
   "cell_type": "markdown",
   "metadata": {},
   "source": [
    "Just a quick summary of the most common list operations. "
   ]
  },
  {
   "cell_type": "markdown",
   "metadata": {},
   "source": [
    "### Append, Insert, Remove\n"
   ]
  },
  {
   "cell_type": "markdown",
   "metadata": {},
   "source": [
    "Wow! The same list showed up twice! Why?"
   ]
  },
  {
   "cell_type": "code",
   "execution_count": 25,
   "metadata": {},
   "outputs": [
    {
     "name": "stdout",
     "output_type": "stream",
     "text": [
      "[90, 12, 'Element', 3, ['Katze', 2], 'Hund', 99]\n",
      "[90, 12, 'Element', 3, ['Katze', 2], 'Hund', 99]\n"
     ]
    }
   ],
   "source": [
    "list1 = [90,12,3, [\"Katze\", 2], \"Hund\"]\n",
    "list2 = list1\n",
    "list1.append(99)\n",
    "list2.insert(2, \"Element\")\n",
    "\n",
    "print(list1)\n",
    "print(list2)"
   ]
  },
  {
   "cell_type": "markdown",
   "metadata": {},
   "source": [
    "Now, let's do some changes!"
   ]
  },
  {
   "cell_type": "code",
   "execution_count": 26,
   "metadata": {},
   "outputs": [
    {
     "name": "stdout",
     "output_type": "stream",
     "text": [
      "[90, 12, 3, ['Katze', 2], 'Hund', 99]\n",
      "[90, 12, 'Element', 3, ['Katze', 2], 'Hund']\n"
     ]
    }
   ],
   "source": [
    "list1 = [90,12,3, [\"Katze\", 2], \"Hund\"]\n",
    "list2 = list1.copy()\n",
    "list1.append(99)\n",
    "list2.insert(2, \"Element\")\n",
    "\n",
    "print(list1)\n",
    "print(list2)"
   ]
  },
  {
   "cell_type": "code",
   "execution_count": 27,
   "metadata": {},
   "outputs": [
    {
     "name": "stdout",
     "output_type": "stream",
     "text": [
      "[12, 3, ['Katze', 2], 'Hund']\n"
     ]
    }
   ],
   "source": [
    "list1 = [90,12,3, [\"Katze\", 2], \"Hund\"]\n",
    "list1.remove(90)\n",
    "print(list1)"
   ]
  },
  {
   "cell_type": "markdown",
   "metadata": {},
   "source": [
    "### Sort & Reverse\n"
   ]
  },
  {
   "cell_type": "markdown",
   "metadata": {},
   "source": [
    "First let us look at the sort"
   ]
  },
  {
   "cell_type": "code",
   "execution_count": 33,
   "metadata": {},
   "outputs": [
    {
     "name": "stdout",
     "output_type": "stream",
     "text": [
      "[12, 20, 23, 90] \n",
      "\n",
      "['Hanna', 'Lisa', 'Manfred', 'Stefan'] \n",
      "\n",
      "[90, 23, 20, 12]\n"
     ]
    }
   ],
   "source": [
    "list1 = [90,12,20,23]\n",
    "list2 = [\"Manfred\", \"Lisa\", \"Stefan\", \"Hanna\"]\n",
    "\n",
    "list1.sort()\n",
    "list2.sort()\n",
    "print(list1, \"\\n\")\n",
    "print(list2, \"\\n\")\n",
    "\n",
    "list1.sort(reverse = True)\n",
    "print(list1)"
   ]
  },
  {
   "cell_type": "markdown",
   "metadata": {},
   "source": [
    "Now, reverse!"
   ]
  },
  {
   "cell_type": "code",
   "execution_count": 32,
   "metadata": {},
   "outputs": [
    {
     "name": "stdout",
     "output_type": "stream",
     "text": [
      "[23, 20, 12, 90] \n",
      "\n",
      "['Hanna', 'Stefan', 'Lisa', 'Manfred'] \n",
      "\n"
     ]
    }
   ],
   "source": [
    "list1 = [90,12,20,23]\n",
    "list2 = [\"Manfred\", \"Lisa\", \"Stefan\", \"Hanna\"]\n",
    "\n",
    "list1.reverse()\n",
    "list2.reverse()\n",
    "print(list1, \"\\n\")\n",
    "print(list2, \"\\n\")\n",
    "\n"
   ]
  },
  {
   "cell_type": "markdown",
   "metadata": {},
   "source": [
    "## Tuples in Python\n"
   ]
  },
  {
   "cell_type": "markdown",
   "metadata": {},
   "source": [
    "Just a quick summary of the most common list operations. "
   ]
  },
  {
   "cell_type": "code",
   "execution_count": 35,
   "metadata": {},
   "outputs": [
    {
     "name": "stdout",
     "output_type": "stream",
     "text": [
      "('tuples', 'are ', 'awesome')\n",
      "('still', 'great')\n",
      "(1,)\n"
     ]
    }
   ],
   "source": [
    "tuple1 = (\"tuples\", \"are \", \"awesome\")\n",
    "tuple2 = (\"still\", \"great\")\n",
    "sin_tuple = (1,)\n",
    "print(tuple1)\n",
    "print(tuple2)\n",
    "print(sin_tuple)"
   ]
  },
  {
   "cell_type": "markdown",
   "metadata": {},
   "source": [
    "What happens if we try to change a value?!"
   ]
  },
  {
   "cell_type": "code",
   "execution_count": 36,
   "metadata": {
    "scrolled": true
   },
   "outputs": [
    {
     "ename": "TypeError",
     "evalue": "'type' object does not support item assignment",
     "output_type": "error",
     "traceback": [
      "\u001b[0;31m---------------------------------------------------------------------------\u001b[0m",
      "\u001b[0;31mTypeError\u001b[0m                                 Traceback (most recent call last)",
      "\u001b[0;32m<ipython-input-36-e5a158e4cd95>\u001b[0m in \u001b[0;36m<module>\u001b[0;34m\u001b[0m\n\u001b[1;32m      1\u001b[0m \u001b[0mtuple1\u001b[0m \u001b[0;34m=\u001b[0m \u001b[0;34m(\u001b[0m\u001b[0;34m\"tuples\"\u001b[0m\u001b[0;34m,\u001b[0m \u001b[0;34m\"are \"\u001b[0m\u001b[0;34m,\u001b[0m \u001b[0;34m\"awesome\"\u001b[0m\u001b[0;34m)\u001b[0m\u001b[0;34m\u001b[0m\u001b[0;34m\u001b[0m\u001b[0m\n\u001b[1;32m      2\u001b[0m \u001b[0mtuple2\u001b[0m \u001b[0;34m=\u001b[0m \u001b[0;34m(\u001b[0m\u001b[0;34m\"still\"\u001b[0m\u001b[0;34m,\u001b[0m \u001b[0;34m\"great\"\u001b[0m\u001b[0;34m)\u001b[0m\u001b[0;34m\u001b[0m\u001b[0;34m\u001b[0m\u001b[0m\n\u001b[0;32m----> 3\u001b[0;31m \u001b[0mtuple\u001b[0m\u001b[0;34m[\u001b[0m\u001b[0;36m1\u001b[0m\u001b[0;34m]\u001b[0m \u001b[0;34m=\u001b[0m \u001b[0;34m\"were\"\u001b[0m\u001b[0;34m\u001b[0m\u001b[0;34m\u001b[0m\u001b[0m\n\u001b[0m\u001b[1;32m      4\u001b[0m \u001b[0;34m\u001b[0m\u001b[0m\n\u001b[1;32m      5\u001b[0m \u001b[0mprint\u001b[0m\u001b[0;34m(\u001b[0m\u001b[0mtuple1\u001b[0m\u001b[0;34m)\u001b[0m\u001b[0;34m\u001b[0m\u001b[0;34m\u001b[0m\u001b[0m\n",
      "\u001b[0;31mTypeError\u001b[0m: 'type' object does not support item assignment"
     ]
    }
   ],
   "source": [
    "tuple1 = (\"tuples\", \"are \", \"awesome\")\n",
    "tuple2 = (\"still\", \"great\")\n",
    "tuple1[1] = \"were\"\n",
    "\n",
    "print(tuple1)\n",
    "print(tuple2)"
   ]
  },
  {
   "cell_type": "markdown",
   "metadata": {},
   "source": [
    "Ok, ok and what about this?"
   ]
  },
  {
   "cell_type": "code",
   "execution_count": 37,
   "metadata": {},
   "outputs": [
    {
     "name": "stdout",
     "output_type": "stream",
     "text": [
      "('tuples', 'are ', 'awesome')\n",
      "('tuples', 'are ', 'awesome')\n"
     ]
    }
   ],
   "source": [
    "tuple1 = (\"tuples\", \"are \", \"awesome\")\n",
    "tuple2 = (\"still\", \"great\")\n",
    "tuple2 = tuple1\n",
    "\n",
    "print(tuple1)\n",
    "print(tuple2)"
   ]
  },
  {
   "cell_type": "markdown",
   "metadata": {},
   "source": [
    "This means that tupls are immutable, but we still can extend the tuples with another trick"
   ]
  },
  {
   "cell_type": "code",
   "execution_count": 38,
   "metadata": {},
   "outputs": [
    {
     "name": "stdout",
     "output_type": "stream",
     "text": [
      "('tuples', 'are ', 'awesome')\n",
      "('tuples', 'are ', 'awesome', 'still', 'great')\n"
     ]
    }
   ],
   "source": [
    "tuple1 = (\"tuples\", \"are \", \"awesome\")\n",
    "tuple2 = (\"still\", \"great\")\n",
    "tuple2 = tuple1+tuple2 \n",
    "\n",
    "print(tuple1)\n",
    "print(tuple2)"
   ]
  },
  {
   "cell_type": "markdown",
   "metadata": {},
   "source": [
    "## Dictionaries in Python\n"
   ]
  },
  {
   "cell_type": "markdown",
   "metadata": {},
   "source": [
    "Another way to store variables is with dictionaries!"
   ]
  },
  {
   "cell_type": "code",
   "execution_count": 39,
   "metadata": {},
   "outputs": [
    {
     "name": "stdout",
     "output_type": "stream",
     "text": [
      "{'item1': 5, 'item2': 3, 'item3': 10}\n",
      "dict_keys(['item1', 'item2', 'item3'])\n",
      "dict_values(['Tomas', 'Sandra', 'Luca'])\n"
     ]
    }
   ],
   "source": [
    "dict1 = {\"item1\": 5, \"item2\": 3, \"item3\": 10}\n",
    "dict2 = {1: \"Tomas\", 2: \"Sandra\", 3: \"Luca\"}\n",
    "\n",
    "print(dict1)\n",
    "print(dict1.keys())\n",
    "print(dict2.values())"
   ]
  },
  {
   "cell_type": "markdown",
   "metadata": {},
   "source": [
    "what about other methods"
   ]
  },
  {
   "cell_type": "code",
   "execution_count": 43,
   "metadata": {},
   "outputs": [
    {
     "name": "stdout",
     "output_type": "stream",
     "text": [
      "None\n",
      "3\n",
      "False\n",
      "{'item1': 5, 'item2': 3, 'item3': 10, 1: 'I', 2: 'love', 3: 'Javi'}\n"
     ]
    }
   ],
   "source": [
    "dict1 = {\"item1\": 5, \"item2\": 3, \"item3\": 10}\n",
    "dict2 = {1: \"Tomas\", 2: \"Sandra\", 3: \"Luca\"}\n",
    "dict3 = {1: \"I\", 2: \"love\", 3: \"Javi\"}\n",
    "cond1 = dict1.get(\"Marvel\", None)\n",
    "a = len(dict1)\n",
    "b = 1 in dict1\n",
    "dict1.update(dict3)\n",
    "\n",
    "print(cond1)\n",
    "print(a)\n",
    "print(b)\n",
    "print(dict1)"
   ]
  },
  {
   "cell_type": "markdown",
   "metadata": {},
   "source": [
    "## Mutable vs. Immutable"
   ]
  },
  {
   "cell_type": "code",
   "execution_count": 1,
   "metadata": {},
   "outputs": [
    {
     "name": "stdout",
     "output_type": "stream",
     "text": [
      "4300887744\n",
      "4300887744\n"
     ]
    }
   ],
   "source": [
    "x = 10\n",
    "y = 10\n",
    "\n",
    "print(id(x))\n",
    "print(id(y))"
   ]
  },
  {
   "cell_type": "markdown",
   "metadata": {},
   "source": [
    "__This identity has to be unique and constant for this object during the lifetime. Two objects with non-overlapping lifetimes may have the same id() value. If we relate this to C, then they are actually the memory address, here in Python it is the unique id. This function is generally used internally in Python.__"
   ]
  },
  {
   "cell_type": "code",
   "execution_count": 2,
   "metadata": {},
   "outputs": [
    {
     "name": "stdout",
     "output_type": "stream",
     "text": [
      "4300887776\n",
      "4300887744\n",
      "There is a change of address, it did not change the original object\n"
     ]
    }
   ],
   "source": [
    "x = x + 1\n",
    "\n",
    "print(id(x))\n",
    "print(id(y))\n",
    "print(\"There is a change of address, it did not change the original object\")"
   ]
  },
  {
   "cell_type": "code",
   "execution_count": 8,
   "metadata": {},
   "outputs": [
    {
     "name": "stdout",
     "output_type": "stream",
     "text": [
      "4354334216\n",
      "4354334216\n"
     ]
    }
   ],
   "source": [
    "m = [1,2,3,4,5,6,7,8]\n",
    "n = m\n",
    "print(id(m))\n",
    "print(id(n))"
   ]
  },
  {
   "cell_type": "code",
   "execution_count": 9,
   "metadata": {},
   "outputs": [
    {
     "name": "stdout",
     "output_type": "stream",
     "text": [
      "8\n",
      "4354334216\n",
      "4354334216\n",
      "It did change the original object\n",
      "[1, 2, 3, 4, 5, 6, 7]\n"
     ]
    }
   ],
   "source": [
    "print(m.pop())\n",
    "print(id(m))\n",
    "print(id(n))\n",
    "print(\"It did change the original object\")\n",
    "print(m)"
   ]
  },
  {
   "cell_type": "markdown",
   "metadata": {},
   "source": [
    "__One additional thing__\n"
   ]
  },
  {
   "cell_type": "markdown",
   "metadata": {},
   "source": [
    "We know that tuples are immutable. This means that the value of the tuple cannot be changed after created. But the \"value\" is just a sequence of names with unchangeable bindings to the object. The key thing is to note that the bindings are not changeable, but the objects in there are. "
   ]
  },
  {
   "cell_type": "code",
   "execution_count": 11,
   "metadata": {},
   "outputs": [
    {
     "name": "stdout",
     "output_type": "stream",
     "text": [
      "('holbert', [1, 2, 3])\n",
      "4353912648 \n",
      "\n",
      "('amazing', 'spiderman')\n",
      "4353911560 \n",
      "\n",
      "('holbert', [1, 2, 3], 'amazing', 'spiderman')\n",
      "4355278312 \n",
      "\n",
      "('holbert', [1, 2, 3, 'A new World'], 'amazing', 'spiderman')\n",
      "4355278312 \n",
      "\n"
     ]
    },
    {
     "ename": "TypeError",
     "evalue": "'tuple' object does not support item assignment",
     "output_type": "error",
     "traceback": [
      "\u001b[0;31m---------------------------------------------------------------------------\u001b[0m",
      "\u001b[0;31mTypeError\u001b[0m                                 Traceback (most recent call last)",
      "\u001b[0;32m<ipython-input-11-f2471783e69d>\u001b[0m in \u001b[0;36m<module>\u001b[0;34m\u001b[0m\n\u001b[1;32m     15\u001b[0m \u001b[0mprint\u001b[0m\u001b[0;34m(\u001b[0m\u001b[0mid\u001b[0m\u001b[0;34m(\u001b[0m\u001b[0mt1\u001b[0m\u001b[0;34m)\u001b[0m\u001b[0;34m,\u001b[0m \u001b[0;34m'\\n'\u001b[0m\u001b[0;34m)\u001b[0m\u001b[0;34m\u001b[0m\u001b[0;34m\u001b[0m\u001b[0m\n\u001b[1;32m     16\u001b[0m \u001b[0;34m\u001b[0m\u001b[0m\n\u001b[0;32m---> 17\u001b[0;31m \u001b[0mt1\u001b[0m\u001b[0;34m[\u001b[0m\u001b[0;36m0\u001b[0m\u001b[0;34m]\u001b[0m \u001b[0;34m=\u001b[0m \u001b[0;34m\"Wubba lubba dub dub\"\u001b[0m\u001b[0;34m\u001b[0m\u001b[0;34m\u001b[0m\u001b[0m\n\u001b[0m\u001b[1;32m     18\u001b[0m \u001b[0mprint\u001b[0m\u001b[0;34m(\u001b[0m\u001b[0mt1\u001b[0m\u001b[0;34m)\u001b[0m\u001b[0;34m\u001b[0m\u001b[0;34m\u001b[0m\u001b[0m\n\u001b[1;32m     19\u001b[0m \u001b[0mprint\u001b[0m\u001b[0;34m(\u001b[0m\u001b[0mid\u001b[0m\u001b[0;34m(\u001b[0m\u001b[0mt1\u001b[0m\u001b[0;34m)\u001b[0m\u001b[0;34m,\u001b[0m \u001b[0;34m'\\n'\u001b[0m\u001b[0;34m)\u001b[0m\u001b[0;34m\u001b[0m\u001b[0;34m\u001b[0m\u001b[0m\n",
      "\u001b[0;31mTypeError\u001b[0m: 'tuple' object does not support item assignment"
     ]
    }
   ],
   "source": [
    "t1 = (\"holbert\", [1,2,3])\n",
    "print(t1)\n",
    "print(id(t1), '\\n')\n",
    "\n",
    "t2 = (\"amazing\", \"spiderman\")\n",
    "print(t2)\n",
    "print(id(t2), '\\n')\n",
    "\n",
    "t1 = t1 + t2\n",
    "print(t1)\n",
    "print(id(t1), '\\n') # Different object now\n",
    "\n",
    "t1[1].append(\"A new World\")\n",
    "print(t1)\n",
    "print(id(t1), '\\n')\n",
    "\n",
    "t1[0] = \"Wubba lubba dub dub\"\n",
    "print(t1)\n",
    "print(id(t1), '\\n')\n"
   ]
  },
  {
   "cell_type": "markdown",
   "metadata": {},
   "source": [
    "### Okay, what about functions!\n",
    "\n",
    "A mutable object is called by reference in a function, this means that it can change the original variable itself. In order to avoid this, the original variable needs to be copied to another variable. Immutable objects can be called by reference because its value cannot be changed anyways."
   ]
  },
  {
   "cell_type": "code",
   "execution_count": 4,
   "metadata": {},
   "outputs": [
    {
     "name": "stdout",
     "output_type": "stream",
     "text": [
      "[5, 6]\n",
      "4529585480 \n",
      "\n",
      "[5, 6, 10]\n",
      "4529585480 \n",
      "\n"
     ]
    }
   ],
   "source": [
    "def updatelist(list1):\n",
    "    list1 += [10]\n",
    "    return \n",
    "\n",
    "n = [5,6]\n",
    "print(n)\n",
    "print(id(n), '\\n')\n",
    "updatelist(n)\n",
    "print(n)\n",
    "print(id(n), '\\n')\n",
    "\n"
   ]
  },
  {
   "cell_type": "code",
   "execution_count": 7,
   "metadata": {},
   "outputs": [
    {
     "name": "stdout",
     "output_type": "stream",
     "text": [
      "4476118656 \n",
      "\n",
      "4476118656 \n",
      "\n",
      "4476118976 \n",
      "\n",
      "8\n"
     ]
    }
   ],
   "source": [
    "def updatenumber(n):\n",
    "    print(id(n), '\\n')\n",
    "    n += 10\n",
    "    print(id(n), '\\n')\n",
    "    return\n",
    "\n",
    "b = 8\n",
    "print(id(b), '\\n')\n",
    "updatenumber(b)\n",
    "print(b)"
   ]
  },
  {
   "cell_type": "markdown",
   "metadata": {},
   "source": [
    "## Mini Challenge II"
   ]
  },
  {
   "cell_type": "markdown",
   "metadata": {},
   "source": [
    "1. Create a list with 4 random numbers:"
   ]
  },
  {
   "cell_type": "code",
   "execution_count": null,
   "metadata": {},
   "outputs": [],
   "source": []
  },
  {
   "cell_type": "markdown",
   "metadata": {},
   "source": [
    "2. Change the values of the list by using list\n",
    "comprehension (e.g. multiply by 3):"
   ]
  },
  {
   "cell_type": "code",
   "execution_count": null,
   "metadata": {},
   "outputs": [],
   "source": []
  },
  {
   "cell_type": "markdown",
   "metadata": {},
   "source": [
    "3. Insert a new element and then sort the list\n",
    "from top to down\n",
    "\n",
    "__Hint:__ \n",
    "    Here are some common list methods.\n",
    "list.append(elem) -- adds a single element to the end of the list. ...\n",
    "list.insert(index, elem) -- inserts the element at the given index, shifting elements to the right.\n",
    "list.extend(list2) adds the elements in list2 to the end of the list."
   ]
  },
  {
   "cell_type": "code",
   "execution_count": null,
   "metadata": {},
   "outputs": [],
   "source": []
  },
  {
   "cell_type": "code",
   "execution_count": null,
   "metadata": {},
   "outputs": [],
   "source": []
  },
  {
   "cell_type": "markdown",
   "metadata": {},
   "source": [
    "4. Create a new list with 5 names:"
   ]
  },
  {
   "cell_type": "code",
   "execution_count": null,
   "metadata": {},
   "outputs": [],
   "source": []
  },
  {
   "cell_type": "markdown",
   "metadata": {},
   "source": [
    "5. Create a new list with 5 numbers:"
   ]
  },
  {
   "cell_type": "code",
   "execution_count": null,
   "metadata": {},
   "outputs": [],
   "source": []
  },
  {
   "cell_type": "markdown",
   "metadata": {},
   "source": [
    "6. Create a dictionary using the previously created lists. The names will be the keys and the numbers the values:\n",
    "\n",
    "__HINT__. _Stack Overflow_ is your friend. And a little secret between the two of us, the command _zip()_ could do the trick ;)"
   ]
  },
  {
   "cell_type": "code",
   "execution_count": null,
   "metadata": {},
   "outputs": [],
   "source": []
  },
  {
   "cell_type": "markdown",
   "metadata": {},
   "source": [
    "5. Create a second dictionary with random\n",
    "keys and values"
   ]
  },
  {
   "cell_type": "code",
   "execution_count": null,
   "metadata": {},
   "outputs": [],
   "source": []
  },
  {
   "cell_type": "markdown",
   "metadata": {},
   "source": [
    "6. Create a tuple containing the two\n",
    "dictionaries"
   ]
  },
  {
   "cell_type": "code",
   "execution_count": null,
   "metadata": {},
   "outputs": [],
   "source": []
  },
  {
   "cell_type": "markdown",
   "metadata": {},
   "source": [
    "7. Last but not least, change the element of the\n",
    "first key (first tuple element) to “LOL”"
   ]
  },
  {
   "cell_type": "code",
   "execution_count": null,
   "metadata": {},
   "outputs": [],
   "source": []
  },
  {
   "cell_type": "code",
   "execution_count": 46,
   "metadata": {},
   "outputs": [
    {
     "name": "stdout",
     "output_type": "stream",
     "text": [
      "Tuples are immutable!!!\n"
     ]
    }
   ],
   "source": [
    "print(\"Tuples are immutable!!!\")"
   ]
  },
  {
   "cell_type": "markdown",
   "metadata": {},
   "source": [
    "## Dear participant!\n",
    "\n",
    "You made it! You programmed Python for the first time. It was not that hard right? Just kidden, learning a new language is always hard. So don't feel bad if you did not understand or solve all the exercises in the given time. Learning is all about practice. So practice, practice, practice! Nevertheless, we hope that you enjoyed today and we will see you next week again ;)  \n",
    "\n",
    "__Don't forget! Always look on the bright side of ...__"
   ]
  }
 ],
 "metadata": {
  "kernelspec": {
   "display_name": "Python 3",
   "language": "python",
   "name": "python3"
  },
  "language_info": {
   "codemirror_mode": {
    "name": "ipython",
    "version": 3
   },
   "file_extension": ".py",
   "mimetype": "text/x-python",
   "name": "python",
   "nbconvert_exporter": "python",
   "pygments_lexer": "ipython3",
   "version": "3.7.3"
  }
 },
 "nbformat": 4,
 "nbformat_minor": 2
}
