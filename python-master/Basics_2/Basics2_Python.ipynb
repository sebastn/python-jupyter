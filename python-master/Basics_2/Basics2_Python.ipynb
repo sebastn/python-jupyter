{
 "cells": [
  {
   "cell_type": "markdown",
   "metadata": {},
   "source": [
    "# Basics II  - Notebook\n",
    "\n"
   ]
  },
  {
   "cell_type": "markdown",
   "metadata": {},
   "source": [
    "## Cheatsheet for virtual environment commands\n",
    "\n",
    "First of all, we look at some virtual environment commands which will make your life easier. \n",
    "\n",
    "__IMPORTANT: Do not run this commands in Jupyter Notebook, but in your Anaconda Prompt, Command Prompt or Terminal!__"
   ]
  },
  {
   "cell_type": "markdown",
   "metadata": {},
   "source": [
    "### Creating a virtual environment"
   ]
  },
  {
   "cell_type": "markdown",
   "metadata": {},
   "source": [
    "<code> conda create --name myenv </code>"
   ]
  },
  {
   "cell_type": "markdown",
   "metadata": {},
   "source": [
    "### Creating a virtual environment with specific Python version"
   ]
  },
  {
   "cell_type": "markdown",
   "metadata": {},
   "source": [
    "<code>conda create -n myenv python=3.6</code>"
   ]
  },
  {
   "cell_type": "markdown",
   "metadata": {},
   "source": [
    "### Creating a virtual environment with specific Python version and specific packages installed"
   ]
  },
  {
   "cell_type": "markdown",
   "metadata": {},
   "source": [
    "<code>conda create -n myenv python=3.6 scipy=0.15.0 astroid babel</code>"
   ]
  },
  {
   "cell_type": "markdown",
   "metadata": {},
   "source": [
    "### Lists all your environments on your computer"
   ]
  },
  {
   "cell_type": "markdown",
   "metadata": {},
   "source": [
    "<code>conda env list</code>"
   ]
  },
  {
   "cell_type": "markdown",
   "metadata": {},
   "source": [
    "### Creates a copy of a previous existing version of an environment\n"
   ]
  },
  {
   "cell_type": "markdown",
   "metadata": {},
   "source": [
    "<code>conda create --name myclone --clone myenv</code>"
   ]
  },
  {
   "cell_type": "markdown",
   "metadata": {},
   "source": [
    "### Activates the _myenv_ virtual environment\n"
   ]
  },
  {
   "cell_type": "markdown",
   "metadata": {},
   "source": [
    "<code>conda activate myenv</code>"
   ]
  },
  {
   "cell_type": "markdown",
   "metadata": {},
   "source": [
    "### Installs the _math_ package in your activated environment"
   ]
  },
  {
   "cell_type": "markdown",
   "metadata": {},
   "source": [
    "<code>conda install math</code>"
   ]
  },
  {
   "cell_type": "markdown",
   "metadata": {},
   "source": [
    "### Deactivates your environment"
   ]
  },
  {
   "cell_type": "markdown",
   "metadata": {},
   "source": [
    "<code>conda deactivate</code>"
   ]
  },
  {
   "cell_type": "markdown",
   "metadata": {},
   "source": [
    "### Shows all the packages installed in _myenv_ (but only if not activated)"
   ]
  },
  {
   "cell_type": "markdown",
   "metadata": {},
   "source": [
    "<code>conda list -n myenv</code>"
   ]
  },
  {
   "cell_type": "markdown",
   "metadata": {},
   "source": [
    "### Shows all the packages installed in _myenv_ (but only if activated)"
   ]
  },
  {
   "cell_type": "markdown",
   "metadata": {},
   "source": [
    "<code>conda list</code>"
   ]
  },
  {
   "cell_type": "markdown",
   "metadata": {},
   "source": [
    "### Removes the _myenv_ environment of your system"
   ]
  },
  {
   "cell_type": "markdown",
   "metadata": {},
   "source": [
    "<code>conda remove --name myenv --all</code>"
   ]
  },
  {
   "cell_type": "markdown",
   "metadata": {},
   "source": [
    "### Quick check, if it really vanished from your PC"
   ]
  },
  {
   "cell_type": "markdown",
   "metadata": {},
   "source": [
    "<code>conda env list</code>"
   ]
  },
  {
   "cell_type": "markdown",
   "metadata": {},
   "source": [
    "## Enough theory! \n",
    "Virtual environment can be quite confusing in the beginning. But seriously they are best practice and help you to keep order in your projects!"
   ]
  },
  {
   "cell_type": "markdown",
   "metadata": {},
   "source": [
    "## Mini Challenge I - RECAP"
   ]
  },
  {
   "cell_type": "markdown",
   "metadata": {},
   "source": [
    "__In order to tickle your neurons a bit, let us have a quick challenge of last week.__ \n",
    "\n",
    "1. Create a string variable _string1_ which says: \"I want to break free\"\n",
    "\n",
    "\n",
    "2. Slice out the word _free_ of your previosly created variable and save it with the variable _string2_\n",
    "\n",
    "\n",
    "3. Now create a third and last variabel called _string3_ which says: My favourite actor is Morgan Freeman! But of course, you want to get the \"Free\" part from your _string2_ variable and of course the first letter shall be uppercase / _hint:_ maybe you have to create a help variable to store the first character of _string2_ ;)\n",
    "\n",
    "\n",
    "4. Okidoki! Create a list _list1_ with the numbers:  78, 29, 41, 23456029348529, 1 and your variable _string3_\n",
    "\n",
    "\n",
    "5. Remove the last element of your _list1_ list\n",
    "\n",
    "\n",
    "6. Finally, create a dictionary _dict1_ with keys: 1 and 2 ---> Key 1 holds list1 as value and Key 2 holds the string: I am already lost! Damnit!\n",
    "\n",
    "\n",
    "7. Last but not least, print the \"memory\" address of your dictionary\n",
    "\n",
    "BTW.  --> Are dictionaries mutable or immutable?!? (evil laughter)"
   ]
  },
  {
   "cell_type": "code",
   "execution_count": null,
   "metadata": {},
   "outputs": [],
   "source": [
    "# Here is your code"
   ]
  },
  {
   "cell_type": "code",
   "execution_count": null,
   "metadata": {},
   "outputs": [],
   "source": []
  },
  {
   "cell_type": "markdown",
   "metadata": {},
   "source": [
    "## Conditional statements in Python\n",
    "\n",
    "Now, we look at the simple **if statement**"
   ]
  },
  {
   "cell_type": "code",
   "execution_count": null,
   "metadata": {},
   "outputs": [],
   "source": [
    "if 10 > 12:\n",
    "    print(\"Change of history!\")"
   ]
  },
  {
   "cell_type": "markdown",
   "metadata": {},
   "source": [
    "Now, we look at the **if-else statement**"
   ]
  },
  {
   "cell_type": "code",
   "execution_count": null,
   "metadata": {},
   "outputs": [],
   "source": [
    "if 10 > 12:\n",
    "    print(\"Change of history!\")\n",
    "else:\n",
    "    print(\"Nothing new here!\")"
   ]
  },
  {
   "cell_type": "markdown",
   "metadata": {},
   "source": [
    "And lastly, we add a bit of **elif** here!"
   ]
  },
  {
   "cell_type": "code",
   "execution_count": null,
   "metadata": {},
   "outputs": [],
   "source": [
    "list_1 = [12, 34, \"Hannah\", \"Montana\", []]\n",
    "\n",
    "if 10 > 12: # False\n",
    "    print(\"Change of history!\")\n",
    "elif 5 > 7: # False\n",
    "    print(\"Still change of history!\")\n",
    "elif 12 in list_1: # True\n",
    "    print(\"Ok, I got it!\")\n",
    "else: # Only gets executed if all conditions above are False\n",
    "    print(\"Nothing new here!\")"
   ]
  },
  {
   "cell_type": "markdown",
   "metadata": {},
   "source": [
    "Ok, let's quickly check the **pass** statement"
   ]
  },
  {
   "cell_type": "code",
   "execution_count": null,
   "metadata": {},
   "outputs": [],
   "source": [
    "if 10 > 5:\n",
    "    \n",
    "print(\"Apfelstrudel\")"
   ]
  },
  {
   "cell_type": "markdown",
   "metadata": {},
   "source": [
    "But if we add a litle **pass**"
   ]
  },
  {
   "cell_type": "code",
   "execution_count": null,
   "metadata": {},
   "outputs": [],
   "source": [
    "if 10 > 5:\n",
    "   pass\n",
    "\n",
    "print(\"Apfelstrudel\")"
   ]
  },
  {
   "cell_type": "markdown",
   "metadata": {},
   "source": [
    "Ok, and last but not least --> Boolean operators\n",
    "\n",
    "negation with **not**: not True == False"
   ]
  },
  {
   "cell_type": "code",
   "execution_count": null,
   "metadata": {},
   "outputs": [],
   "source": [
    "if 10 > 5 and 100 > 99:\n",
    "    print(\"That was and!\")\n",
    "    \n",
    "if 1 > 5 or 100 > 99:\n",
    "    print(\"That was or!\")\n",
    "\n",
    "if not False:\n",
    "    print(\"That is obviously True\")"
   ]
  },
  {
   "cell_type": "markdown",
   "metadata": {},
   "source": [
    "## Loops in Python\n",
    "\n",
    "### While loop"
   ]
  },
  {
   "cell_type": "code",
   "execution_count": null,
   "metadata": {},
   "outputs": [],
   "source": [
    "number = 0\n",
    "\n",
    "while number < 5 and True:\n",
    "    print(number)\n",
    "    number += 1"
   ]
  },
  {
   "cell_type": "markdown",
   "metadata": {},
   "source": [
    "### For Loop\n",
    "\n",
    "**Example 1!**"
   ]
  },
  {
   "cell_type": "code",
   "execution_count": null,
   "metadata": {},
   "outputs": [],
   "source": [
    "for letter in \"deoxyribonucleic acid\":\n",
    "    print(\"That's hell of a word!\")"
   ]
  },
  {
   "cell_type": "markdown",
   "metadata": {},
   "source": [
    "**Example 2!**"
   ]
  },
  {
   "cell_type": "code",
   "execution_count": null,
   "metadata": {},
   "outputs": [],
   "source": [
    "random_list = [\"Monkey\", \"Chips\", \"Game of Thrones\", \"Surf Gloves\"]\n",
    "\n",
    "for stuff in random_list:\n",
    "    print(stuff)"
   ]
  },
  {
   "cell_type": "markdown",
   "metadata": {},
   "source": [
    "**Example 3!**"
   ]
  },
  {
   "cell_type": "code",
   "execution_count": null,
   "metadata": {},
   "outputs": [],
   "source": [
    "random_list = [\"Monkey\", \"Chips\", \"Game of Thrones\", \"Surf Gloves\"]\n",
    "\n",
    "print(range(len(random_list)))\n",
    "\n",
    "for index in range(len(random_list)):\n",
    "    print(random_list[index])"
   ]
  },
  {
   "cell_type": "markdown",
   "metadata": {},
   "source": [
    "First: **break**!"
   ]
  },
  {
   "cell_type": "code",
   "execution_count": null,
   "metadata": {},
   "outputs": [],
   "source": [
    "number = 0\n",
    "\n",
    "while number < 5:\n",
    "    if number == 3:\n",
    "        print(f\"{number} is not my favourite number\")\n",
    "        break\n",
    "    else:\n",
    "        print(number)\n",
    "    number += 1"
   ]
  },
  {
   "cell_type": "markdown",
   "metadata": {},
   "source": [
    "Now: **continue**!"
   ]
  },
  {
   "cell_type": "code",
   "execution_count": null,
   "metadata": {},
   "outputs": [],
   "source": [
    "for letter in \"Apple\":\n",
    "    if letter == \"A\":\n",
    "        print(\"That's cool\")\n",
    "        continue\n",
    "        # print(\"Never\")\n",
    "    else:\n",
    "        print(letter)\n",
    "    # print(\"Always?\")"
   ]
  },
  {
   "cell_type": "markdown",
   "metadata": {},
   "source": [
    "Once again: **pass**!"
   ]
  },
  {
   "cell_type": "code",
   "execution_count": null,
   "metadata": {},
   "outputs": [],
   "source": [
    "for letter in \"PeHar\":\n",
    "    if letter == \"H\":\n",
    "        pass\n",
    "    else:\n",
    "        print(letter)"
   ]
  },
  {
   "cell_type": "markdown",
   "metadata": {},
   "source": [
    "## Functions in Python\n",
    "\n",
    "### Syntax"
   ]
  },
  {
   "cell_type": "code",
   "execution_count": null,
   "metadata": {},
   "outputs": [],
   "source": [
    "def sum_calc(a, b):\n",
    "    c = a + b\n",
    "    print(c)\n",
    "    \n",
    "sum_calc(8, 7)"
   ]
  },
  {
   "cell_type": "markdown",
   "metadata": {},
   "source": [
    "### Keyword arguments\n",
    "\n",
    "**Function calls can be identified by parameter name!**"
   ]
  },
  {
   "cell_type": "code",
   "execution_count": null,
   "metadata": {},
   "outputs": [],
   "source": [
    "def greeting(greeting, name):\n",
    "    phrase = f\"{greeting} {name}!\"\n",
    "    print(phrase)\n",
    "\n",
    "\n",
    "# Using keyword arguments\n",
    "greeting(name=\"James\", greeting=\"Hello\")"
   ]
  },
  {
   "cell_type": "markdown",
   "metadata": {},
   "source": [
    "### Required arguments\n",
    "\n",
    "**Arguments have to be in the right order!**"
   ]
  },
  {
   "cell_type": "code",
   "execution_count": null,
   "metadata": {},
   "outputs": [],
   "source": [
    "greeting(\"Hello\", \"James\")\n",
    "\n",
    "# not greeting(\"James\", \"Hello\")"
   ]
  },
  {
   "cell_type": "markdown",
   "metadata": {},
   "source": [
    "### Required arguments\n",
    "\n",
    "**Function has a default value in the function declaration, when value is not provided in call**"
   ]
  },
  {
   "cell_type": "code",
   "execution_count": null,
   "metadata": {},
   "outputs": [],
   "source": [
    "def call_people(name, age=35):\n",
    "    phrase = f\"{name} is {age} years old!\"\n",
    "    print(phrase)\n",
    "    \n",
    "call_people(name=\"Wolfgang\")"
   ]
  },
  {
   "cell_type": "markdown",
   "metadata": {},
   "source": [
    "### Variable-length arguments\n",
    "\n",
    "**Used when there is an unspecified amount of arguments**\n",
    "\n",
    "**args**: By using * as syntax you can take in a variable amount of arguments - by convention with word **args**"
   ]
  },
  {
   "cell_type": "code",
   "execution_count": null,
   "metadata": {},
   "outputs": [],
   "source": [
    "def random_fun(arg1, *argv):\n",
    "    print(arg1)\n",
    "    for arg in argv:\n",
    "        print(arg)\n",
    "\n",
    "random_fun(\"First argument\", \"Ulrich\", 2, [1,2,3])"
   ]
  },
  {
   "cell_type": "markdown",
   "metadata": {},
   "source": [
    "**kwargs**: Now you can pass a keyworded, variable-lenth argument list. **Remember**: A keyword argument is where you have to name the variable as you call it with the function\n",
    "\n",
    "**kwargs** is like a dictionary that maps each keyword to the value that we pass --> this means that when we iterate over it, it does not have to be ordered"
   ]
  },
  {
   "cell_type": "code",
   "execution_count": null,
   "metadata": {},
   "outputs": [],
   "source": [
    "def random_fun2(**kwargs):\n",
    "    for key, value in kwargs.items():\n",
    "        print(f\"{key} + {value}\")\n",
    "\n",
    "random_fun2(first=\"Ok\", mid=\"I get\", last=\"it\")"
   ]
  },
  {
   "cell_type": "markdown",
   "metadata": {},
   "source": [
    "### Modules in Python\n",
    "\n",
    "Let's have a look at a sample module --> random\n",
    "\n",
    "There are several ways to import the methods from the random module, but every python file can be imported as a module in your script, which can help you structure your program\n",
    "\n",
    "**Option 1**"
   ]
  },
  {
   "cell_type": "code",
   "execution_count": null,
   "metadata": {},
   "outputs": [],
   "source": [
    "import random\n",
    "\n",
    "dir(random)"
   ]
  },
  {
   "cell_type": "code",
   "execution_count": null,
   "metadata": {},
   "outputs": [],
   "source": [
    "help(random.randint)"
   ]
  },
  {
   "cell_type": "code",
   "execution_count": null,
   "metadata": {},
   "outputs": [],
   "source": [
    "def get_num(arg1):\n",
    "    rand_num = random.randint(0, 5)\n",
    "    sum_tot = rand_num + arg1\n",
    "    print(f\"The sum is: {sum_tot}\")\n",
    "    \n",
    "get_num(5)\n",
    "get_num(5)\n",
    "get_num(5)\n",
    "get_num(5)\n",
    "get_num(5)"
   ]
  },
  {
   "cell_type": "markdown",
   "metadata": {},
   "source": [
    "### Option 2"
   ]
  },
  {
   "cell_type": "code",
   "execution_count": null,
   "metadata": {},
   "outputs": [],
   "source": [
    "from random import randint, sample # will only import randint and sample from random\n",
    "\n",
    "def get_num2(arg1):\n",
    "    rand_num = randint(0, 5) # there is no need of random now\n",
    "    sum_tot = rand_num + arg1\n",
    "    print(f\"The sum is: {sum_tot}\")\n",
    "    \n",
    "get_num2(5)"
   ]
  },
  {
   "cell_type": "markdown",
   "metadata": {},
   "source": [
    "### Option 3"
   ]
  },
  {
   "cell_type": "code",
   "execution_count": null,
   "metadata": {},
   "outputs": [],
   "source": [
    "from random import randint as ri\n",
    "\n",
    "def get_num3(arg1):\n",
    "    rand_num = ri(0, 5) # there is no need of random now\n",
    "    sum_tot = rand_num + arg1\n",
    "    print(f\"The sum is: {sum_tot}\")\n",
    "    \n",
    "get_num3(5)"
   ]
  },
  {
   "cell_type": "markdown",
   "metadata": {},
   "source": [
    "**One last thing to mention**"
   ]
  },
  {
   "cell_type": "code",
   "execution_count": null,
   "metadata": {},
   "outputs": [],
   "source": [
    "from random import * # will import everything --> bad practice\n",
    "\n",
    "print(randint(0, 5))"
   ]
  },
  {
   "cell_type": "markdown",
   "metadata": {},
   "source": [
    "# Mini Challenge II"
   ]
  },
  {
   "cell_type": "markdown",
   "metadata": {},
   "source": [
    "The program asks the user for his/her name and saves it in a dictionary. Then the user has to guess a number between 1-3. This means that the program previously has to calculate a random number between 1-3 as well. If the user matches the number his/her “score” will be +1. In total the user has three attempts. So max score is 3. After 3 attempts the game is over and the programs tells you: GAME OVER and also gives you the highscore (basically the dict)"
   ]
  },
  {
   "cell_type": "code",
   "execution_count": null,
   "metadata": {},
   "outputs": [],
   "source": [
    "# Here is your code"
   ]
  },
  {
   "cell_type": "markdown",
   "metadata": {},
   "source": [
    "# Mini Challenge III"
   ]
  },
  {
   "cell_type": "markdown",
   "metadata": {},
   "source": [
    "First you have to create a virtual environment called \"mychallenge\". Activate your environment and install two different modules (e.g. random, math, etc.). Then check if the packages are properly installed. Can you figure out which version you downloaded?! \n",
    "\n",
    "Wicked! You have now your environment set up and finally you can start with your mini project. You want to create an address book which saves your contacts and their details. Obviously, you also want to read your address book. \n",
    "\n",
    "There is no \"ONE\" solution for this task. Before you start, think about which elements your program needs and which information you want to extract. Then think about the different data types you have already learned. Are there some which can be benefitial for \"storing\" your friends' data?!. \n",
    "\n",
    "Furthermore, be creative! This is a real use case on which you can test your creativity and skills. Why not have a little, GUI (Graphical User Interface) or have some gaming elements in there, such as Rock, scissor, paper ;)\n",
    "\n",
    "As this is a more advanced task, it is also possible to work in groups. Have fun and staaaaaart to code!!!!\n",
    "\n"
   ]
  },
  {
   "cell_type": "markdown",
   "metadata": {},
   "source": [
    "__Hints:__\n",
    " -  AddressBook.ipynb\n",
    " - Tkinter for GUI\n",
    "     - https://www.geeksforgeeks.org/python-gui-tkinter/\n"
   ]
  },
  {
   "cell_type": "code",
   "execution_count": null,
   "metadata": {},
   "outputs": [],
   "source": [
    "# Here is your code"
   ]
  }
 ],
 "metadata": {
  "kernelspec": {
   "display_name": "Python 3",
   "language": "python",
   "name": "python3"
  },
  "language_info": {
   "codemirror_mode": {
    "name": "ipython",
    "version": 3
   },
   "file_extension": ".py",
   "mimetype": "text/x-python",
   "name": "python",
   "nbconvert_exporter": "python",
   "pygments_lexer": "ipython3",
   "version": "3.7.3"
  }
 },
 "nbformat": 4,
 "nbformat_minor": 2
}
