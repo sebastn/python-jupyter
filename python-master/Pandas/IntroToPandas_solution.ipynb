{
 "cells": [
  {
   "cell_type": "markdown",
   "metadata": {
    "collapsed": true
   },
   "source": [
    "# Introduction to Pandas"
   ]
  },
  {
   "cell_type": "markdown",
   "metadata": {},
   "source": [
    "Pandas is a very useful library to handle data within your python environment. In a first step, we will introduce how to input and output data from other files."
   ]
  },
  {
   "cell_type": "markdown",
   "metadata": {},
   "source": [
    "# Data Input and Output\n"
   ]
  },
  {
   "cell_type": "code",
   "execution_count": null,
   "metadata": {},
   "outputs": [],
   "source": [
    "# Installing the packages\n",
    "import numpy as np\n",
    "import pandas as pd"
   ]
  },
  {
   "cell_type": "markdown",
   "metadata": {},
   "source": [
    "## CSV\n",
    "\n",
    "### CSV Input"
   ]
  },
  {
   "cell_type": "code",
   "execution_count": null,
   "metadata": {},
   "outputs": [],
   "source": [
    "df = pd.read_csv('pd_other/pythonsample.csv') # File path description\n",
    "df"
   ]
  },
  {
   "cell_type": "markdown",
   "metadata": {},
   "source": [
    "### CSV Output"
   ]
  },
  {
   "cell_type": "code",
   "execution_count": null,
   "metadata": {},
   "outputs": [],
   "source": [
    "df.to_csv('test.csv',index=False) # Transform file into .csv file"
   ]
  },
  {
   "cell_type": "markdown",
   "metadata": {},
   "source": [
    "## Excel\n",
    "Pandas can read and write excel files. Keep in mind that this only imports the data."
   ]
  },
  {
   "cell_type": "markdown",
   "metadata": {},
   "source": [
    "### Excel Input"
   ]
  },
  {
   "cell_type": "code",
   "execution_count": null,
   "metadata": {},
   "outputs": [],
   "source": [
    "df = pd.read_excel('pd_other/hex.xlsx', sheet_name='Sheet1')"
   ]
  },
  {
   "cell_type": "markdown",
   "metadata": {},
   "source": [
    "### Excel Output"
   ]
  },
  {
   "cell_type": "code",
   "execution_count": null,
   "metadata": {},
   "outputs": [],
   "source": [
    "df.to_excel('hex.xlsx',sheet_name='Sheet1')"
   ]
  },
  {
   "cell_type": "code",
   "execution_count": null,
   "metadata": {},
   "outputs": [],
   "source": [
    "df = pd.read_excel('pd_other/hex.xlsx', sheet_name='Sheet1')\n",
    "df"
   ]
  },
  {
   "cell_type": "markdown",
   "metadata": {},
   "source": [
    "# Series"
   ]
  },
  {
   "cell_type": "markdown",
   "metadata": {},
   "source": [
    "The first main data type we will learn about for Pandas is the Series data type. \n",
    "\n",
    "A Series is very similar to a NumPy array (in fact it is built on top of the NumPy array object). What differentiates the NumPy array from a Series, is that a Series can have axis labels, meaning it can be indexed by a label, instead of just a number location. It also doesn't need to hold numeric data, it can hold any Python Object.\n",
    "\n",
    "Let's explore this concept through some examples:"
   ]
  },
  {
   "cell_type": "markdown",
   "metadata": {},
   "source": [
    "### Creating a Series\n",
    "\n",
    "You can convert a list, numpy array, or dictionary to a Series:"
   ]
  },
  {
   "cell_type": "code",
   "execution_count": null,
   "metadata": {},
   "outputs": [],
   "source": [
    "labels = ['a','b','c'] # List with characters\n",
    "\n",
    "my_list = [10,20,30] # List with integers\n",
    "\n",
    "arr = np.array([10,20,30]) # np.array with integers\n",
    "\n",
    "d = {'a':10,'b':20,'c':30} # Dictionary\n"
   ]
  },
  {
   "cell_type": "markdown",
   "metadata": {},
   "source": [
    "**Using Lists**"
   ]
  },
  {
   "cell_type": "code",
   "execution_count": null,
   "metadata": {},
   "outputs": [],
   "source": [
    "pd.Series(data=my_list) # The index is default"
   ]
  },
  {
   "cell_type": "code",
   "execution_count": null,
   "metadata": {},
   "outputs": [],
   "source": [
    "pd.Series(data=my_list,index=labels) # With defined index"
   ]
  },
  {
   "cell_type": "code",
   "execution_count": null,
   "metadata": {},
   "outputs": [],
   "source": [
    "pd.Series(my_list,labels)"
   ]
  },
  {
   "cell_type": "markdown",
   "metadata": {},
   "source": [
    "**NumPy Arrays**"
   ]
  },
  {
   "cell_type": "code",
   "execution_count": null,
   "metadata": {},
   "outputs": [],
   "source": [
    "pd.Series(arr) # Default indexing"
   ]
  },
  {
   "cell_type": "code",
   "execution_count": null,
   "metadata": {},
   "outputs": [],
   "source": [
    "pd.Series(arr,labels) # Custom defined index"
   ]
  },
  {
   "cell_type": "markdown",
   "metadata": {},
   "source": [
    "**Dictionary**"
   ]
  },
  {
   "cell_type": "code",
   "execution_count": null,
   "metadata": {},
   "outputs": [],
   "source": [
    "pd.Series(d)"
   ]
  },
  {
   "cell_type": "markdown",
   "metadata": {},
   "source": [
    "### Data in a Series\n",
    "\n",
    "A pandas Series can hold a variety of object types:"
   ]
  },
  {
   "cell_type": "code",
   "execution_count": null,
   "metadata": {},
   "outputs": [],
   "source": [
    "pd.Series(data=labels)"
   ]
  },
  {
   "cell_type": "markdown",
   "metadata": {},
   "source": [
    "## Using an Index within a Series\n",
    "\n",
    "The key to using a Series is understanding its index. Pandas makes use of these index names or numbers by allowing for fast look ups of information (works like a hash table or dictionary).\n",
    "\n",
    "Let's see some examples of how to grab information from a Series. Let us create two sereis, ser1 and ser2:"
   ]
  },
  {
   "cell_type": "code",
   "execution_count": null,
   "metadata": {},
   "outputs": [],
   "source": [
    "ser1 = pd.Series([1,2,3,4],index = ['USA', 'Germany','USSR', 'Japan'])    \n",
    "ser1"
   ]
  },
  {
   "cell_type": "code",
   "execution_count": null,
   "metadata": {},
   "outputs": [],
   "source": [
    "ser2 = pd.Series([1,2,5,4],index = ['USA', 'Germany','Italy', 'Japan'])    \n",
    "ser2"
   ]
  },
  {
   "cell_type": "code",
   "execution_count": null,
   "metadata": {},
   "outputs": [],
   "source": [
    "ser1['USA']"
   ]
  },
  {
   "cell_type": "markdown",
   "metadata": {},
   "source": [
    "Operations are then also done based on **index:**"
   ]
  },
  {
   "cell_type": "code",
   "execution_count": null,
   "metadata": {},
   "outputs": [],
   "source": [
    "ser1 + ser2"
   ]
  },
  {
   "cell_type": "markdown",
   "metadata": {},
   "source": [
    "# DataFrames\n",
    "\n",
    "DataFrames are the workhorse of pandas. We can think of a DataFrame as a bunch of Series objects put together to share the same index. "
   ]
  },
  {
   "cell_type": "code",
   "execution_count": null,
   "metadata": {},
   "outputs": [],
   "source": [
    "from numpy.random import randn\n",
    "np.random.seed(101)\n",
    "df = pd.read_excel('pd_other/hex.xlsx', sheet_name='Sheet1')\n",
    "df\n",
    "#This method is called when RandomState is initialized. It can be called again to re-seed the generator. "
   ]
  },
  {
   "cell_type": "code",
   "execution_count": null,
   "metadata": {},
   "outputs": [],
   "source": [
    "ran_data = randn(5,4)\n",
    "print(ran_data)\n",
    "\n",
    "\n",
    "\n",
    "cust_index = np.arange(0,83)\n",
    "\n",
    "#cust_columns = [\"W\", \"X\", \"Y\", \"Z\"]\n",
    "\n",
    "df = pd.DataFrame(ran_data,index=cust_index)\n",
    "print(f\"This is our DataFrame data: {ran_data}\", \"\\n\")"
   ]
  },
  {
   "cell_type": "code",
   "execution_count": null,
   "metadata": {},
   "outputs": [],
   "source": [
    "df"
   ]
  },
  {
   "cell_type": "markdown",
   "metadata": {},
   "source": [
    "## Selection and Indexing\n",
    "\n",
    "Let's learn the various methods to grab data from a DataFrame"
   ]
  },
  {
   "cell_type": "markdown",
   "metadata": {},
   "source": [
    "Get column and index names:"
   ]
  },
  {
   "cell_type": "code",
   "execution_count": null,
   "metadata": {},
   "outputs": [],
   "source": [
    "df.columns"
   ]
  },
  {
   "cell_type": "code",
   "execution_count": null,
   "metadata": {},
   "outputs": [],
   "source": [
    "df.index"
   ]
  },
  {
   "cell_type": "markdown",
   "metadata": {},
   "source": [
    "### Get one column"
   ]
  },
  {
   "cell_type": "code",
   "execution_count": null,
   "metadata": {},
   "outputs": [],
   "source": [
    "df['W']"
   ]
  },
  {
   "cell_type": "code",
   "execution_count": null,
   "metadata": {},
   "outputs": [],
   "source": [
    "#second method\n",
    "df.V3"
   ]
  },
  {
   "cell_type": "markdown",
   "metadata": {},
   "source": [
    "### Get multiple columns"
   ]
  },
  {
   "cell_type": "code",
   "execution_count": null,
   "metadata": {},
   "outputs": [],
   "source": [
    "# Pass a list of column names\n",
    "df[['W','Z']]\n",
    "#Take care of two brackets"
   ]
  },
  {
   "cell_type": "markdown",
   "metadata": {},
   "source": [
    "### Relationship between pd.Series and pd.DataFrame"
   ]
  },
  {
   "cell_type": "markdown",
   "metadata": {},
   "source": [
    "DataFrame Columns are just Series"
   ]
  },
  {
   "cell_type": "code",
   "execution_count": null,
   "metadata": {},
   "outputs": [],
   "source": [
    "type(df['W'])"
   ]
  },
  {
   "cell_type": "markdown",
   "metadata": {},
   "source": [
    "**Creating a new column:**"
   ]
  },
  {
   "cell_type": "code",
   "execution_count": null,
   "metadata": {},
   "outputs": [],
   "source": [
    "#creation of a column from addition of coumns \"w\" and \"Y\"\n",
    "df['new'] = df['W'] + df['Y']"
   ]
  },
  {
   "cell_type": "code",
   "execution_count": null,
   "metadata": {},
   "outputs": [],
   "source": [
    "df"
   ]
  },
  {
   "cell_type": "markdown",
   "metadata": {},
   "source": [
    "**Removing Columns**"
   ]
  },
  {
   "cell_type": "code",
   "execution_count": null,
   "metadata": {},
   "outputs": [],
   "source": [
    "# axis =1 removes column\n",
    "# axis =0 removes row\n",
    "df = pd.read_excel('pd_other/hex.xlsx', sheet_name='Sheet1')\n",
    "df\n",
    "df.drop('Unnamed: 1',axis=1,inplace=True) \n",
    "df.drop('Unnamed: 10',axis=1,inplace=True) \n",
    "df.drop(0,axis=0,inplace=True)\n",
    "df"
   ]
  },
  {
   "cell_type": "code",
   "execution_count": null,
   "metadata": {},
   "outputs": [],
   "source": [
    "df.drop('A', axis=0)"
   ]
  },
  {
   "cell_type": "markdown",
   "metadata": {},
   "source": [
    "### But does this mean that we actually changed our initial DataFrame?!"
   ]
  },
  {
   "cell_type": "code",
   "execution_count": null,
   "metadata": {},
   "outputs": [],
   "source": [
    "# Not inplace unless specified!\n",
    "df"
   ]
  },
  {
   "cell_type": "code",
   "execution_count": null,
   "metadata": {},
   "outputs": [],
   "source": [
    "df.drop('new',axis=1,inplace=True)"
   ]
  },
  {
   "cell_type": "code",
   "execution_count": null,
   "metadata": {},
   "outputs": [],
   "source": [
    "df"
   ]
  },
  {
   "cell_type": "markdown",
   "metadata": {},
   "source": [
    "### Selecting Rows\n",
    "\n",
    "**You can either select rows with .loc[] or with .iloc[]**"
   ]
  },
  {
   "cell_type": "code",
   "execution_count": null,
   "metadata": {},
   "outputs": [],
   "source": [
    "df1.loc['Time']"
   ]
  },
  {
   "cell_type": "markdown",
   "metadata": {},
   "source": [
    "**Or select based on the position instead of the label**"
   ]
  },
  {
   "cell_type": "code",
   "execution_count": null,
   "metadata": {},
   "outputs": [],
   "source": [
    "# Indexes start from 0 NOT 1 ---> iloc[2] gives the 3rd row\n",
    "df.iloc[1:3]"
   ]
  },
  {
   "cell_type": "markdown",
   "metadata": {},
   "source": [
    "**Selecting subset of rows and columns**"
   ]
  },
  {
   "cell_type": "code",
   "execution_count": null,
   "metadata": {},
   "outputs": [],
   "source": [
    "df.loc[[1],['V1','V2','V3']]"
   ]
  },
  {
   "cell_type": "markdown",
   "metadata": {},
   "source": [
    "### Conditional Selection\n",
    "\n",
    "An important feature of pandas is conditional selection using bracket notation, very similar to numpy:"
   ]
  },
  {
   "cell_type": "code",
   "execution_count": null,
   "metadata": {},
   "outputs": [],
   "source": [
    "df"
   ]
  },
  {
   "cell_type": "code",
   "execution_count": null,
   "metadata": {},
   "outputs": [],
   "source": [
    "df > 0"
   ]
  },
  {
   "cell_type": "code",
   "execution_count": null,
   "metadata": {},
   "outputs": [],
   "source": [
    "#Boolian indexing\n",
    "df[df > 0]"
   ]
  },
  {
   "cell_type": "code",
   "execution_count": null,
   "metadata": {},
   "outputs": [],
   "source": [
    "df[df['Z'] > 0]"
   ]
  },
  {
   "cell_type": "code",
   "execution_count": null,
   "metadata": {},
   "outputs": [],
   "source": [
    "df[(df['W'] > 0) & (df['Y'] > 1)]"
   ]
  },
  {
   "cell_type": "markdown",
   "metadata": {},
   "source": [
    "## Oh, boy, Oh boy... I really do need a quick... CHALLENGE!"
   ]
  },
  {
   "cell_type": "code",
   "execution_count": null,
   "metadata": {},
   "outputs": [],
   "source": [
    "import binascii\n",
    "#df = pd.read_excel('pd_other/hex.xlsx', sheet_name='Sheet1')\n",
    "#df\n",
    "df = pd.read_csv('pd_other/pythonsample.csv') # File path description\n",
    "df\n",
    "#df.drop('Unnamed: 1',axis=1,inplace=True) \n",
    "#df.drop('Unnamed: 10',axis=1,inplace=True) \n",
    "#df.drop(0,axis=0,inplace=True)\n",
    "print(df)\n",
    "\n",
    "#x=df.loc[[1],['V1','V2','V3']]\n",
    "#print(x)\n",
    "\n",
    "#df.at[0,2] = bin(int(str(df.at[0,2]), 16))[2:].zfill(8)\n",
    "#df.at[0,2]\n",
    "\n",
    "\n",
    "\n"
   ]
  },
  {
   "cell_type": "markdown",
   "metadata": {},
   "source": [
    "## Challenge I"
   ]
  },
  {
   "cell_type": "markdown",
   "metadata": {},
   "source": [
    "In the pd_other folder, you will find some additional example sheets. Let's try the newly gained knowledge on that!"
   ]
  },
  {
   "cell_type": "markdown",
   "metadata": {},
   "source": [
    "1) Load the grades.xlsx in a dataframe called **grades_df**"
   ]
  },
  {
   "cell_type": "code",
   "execution_count": null,
   "metadata": {},
   "outputs": [],
   "source": [
    "# Write your code here\n",
    "\n",
    "grades_df = pd.read_excel(\"pd_other/grades.xlsx\")"
   ]
  },
  {
   "cell_type": "markdown",
   "metadata": {},
   "source": [
    "Okay, let's have a quick look at the table head --> **head()**"
   ]
  },
  {
   "cell_type": "code",
   "execution_count": null,
   "metadata": {},
   "outputs": [],
   "source": [
    "# Write your code here\n",
    "\n",
    "grades_df.head()"
   ]
  },
  {
   "cell_type": "markdown",
   "metadata": {},
   "source": [
    "**UUUUUWEEEEH**! It seems that the table is missing a column head --> Subject. Rename the column with the appropriate column name **Subject**"
   ]
  },
  {
   "cell_type": "code",
   "execution_count": null,
   "metadata": {},
   "outputs": [],
   "source": [
    "# Write your code here\n",
    "\n",
    "# Hint 1: df.columns\n",
    "# Hint 2: https://cmdlinetips.com/2018/03/how-to-change-column-names-and-row-indexes-in-pandas/\n",
    "\n",
    "#col = [\"Subject\", \"Xavi\", \"Vincent\", \"Hamid\", \"Javi\"]\n",
    "column_names = list(grades_df.columns)\n",
    "column_names[0] = \"Subject\"\n",
    "grades_df.columns = column_names"
   ]
  },
  {
   "cell_type": "code",
   "execution_count": null,
   "metadata": {},
   "outputs": [],
   "source": [
    "grades_df"
   ]
  },
  {
   "cell_type": "markdown",
   "metadata": {},
   "source": [
    "Okay, you are nearly done. In a last step, remove **Vincent** from the table..."
   ]
  },
  {
   "cell_type": "code",
   "execution_count": null,
   "metadata": {},
   "outputs": [],
   "source": [
    "# Write your code here\n",
    "\n",
    "grades_df.drop(\"Xavi\", axis=1)"
   ]
  },
  {
   "cell_type": "markdown",
   "metadata": {},
   "source": [
    "And now create a new DataFrame called **best_ever_df** and assign all the subjects from Hamid where his grades are <= 1"
   ]
  },
  {
   "cell_type": "code",
   "execution_count": null,
   "metadata": {},
   "outputs": [],
   "source": [
    "# Write your code here\n",
    "best_ever_df = grades_df[grades_df[\"Hamid\"] <= 1]\n",
    "best_ever_df"
   ]
  },
  {
   "cell_type": "markdown",
   "metadata": {},
   "source": [
    "# Groupby\n",
    "\n",
    "The groupby method allows you to group rows of data together and call aggregate functions"
   ]
  },
  {
   "cell_type": "code",
   "execution_count": null,
   "metadata": {},
   "outputs": [],
   "source": [
    "# Create dataframe\n",
    "data = {'Company':['GOOG','GOOG','MSFT','MSFT','FB','FB'],\n",
    "       'Person':['Sam','Charlie','Amy','Vanessa','Carl','Sarah'],\n",
    "       'Sales':[200,120,340,124,243,350]}"
   ]
  },
  {
   "cell_type": "code",
   "execution_count": null,
   "metadata": {},
   "outputs": [],
   "source": [
    "df = pd.DataFrame(data)\n",
    "df"
   ]
  },
  {
   "cell_type": "markdown",
   "metadata": {},
   "source": [
    "Now you can use the **.groupby()** method to group rows together based off of a column name. For instance let's group based off of Company. This will create a DataFrameGroupBy object:"
   ]
  },
  {
   "cell_type": "code",
   "execution_count": null,
   "metadata": {},
   "outputs": [],
   "source": [
    "df.groupby('Company')"
   ]
  },
  {
   "cell_type": "markdown",
   "metadata": {},
   "source": [
    "You can save this object as a new variable:"
   ]
  },
  {
   "cell_type": "code",
   "execution_count": null,
   "metadata": {},
   "outputs": [],
   "source": [
    "by_comp = df.groupby(\"Company\")"
   ]
  },
  {
   "cell_type": "markdown",
   "metadata": {},
   "source": [
    "And then call aggregate methods off the object:"
   ]
  },
  {
   "cell_type": "code",
   "execution_count": null,
   "metadata": {},
   "outputs": [],
   "source": [
    "by_comp.mean()"
   ]
  },
  {
   "cell_type": "code",
   "execution_count": null,
   "metadata": {},
   "outputs": [],
   "source": [
    "df.groupby('Company').mean()"
   ]
  },
  {
   "cell_type": "markdown",
   "metadata": {},
   "source": [
    "More examples of aggregate methods:"
   ]
  },
  {
   "cell_type": "code",
   "execution_count": null,
   "metadata": {},
   "outputs": [],
   "source": [
    "by_comp.min()"
   ]
  },
  {
   "cell_type": "code",
   "execution_count": null,
   "metadata": {},
   "outputs": [],
   "source": [
    "by_comp.max()"
   ]
  },
  {
   "cell_type": "code",
   "execution_count": null,
   "metadata": {},
   "outputs": [],
   "source": [
    "by_comp.count()"
   ]
  },
  {
   "cell_type": "code",
   "execution_count": null,
   "metadata": {},
   "outputs": [],
   "source": [
    "by_comp.describe()"
   ]
  },
  {
   "cell_type": "markdown",
   "metadata": {},
   "source": [
    "# Missing Data\n",
    "\n",
    "Let's show a few convenient methods to deal with Missing Data in pandas:"
   ]
  },
  {
   "cell_type": "code",
   "execution_count": null,
   "metadata": {},
   "outputs": [],
   "source": [
    "df = pd.DataFrame({'A':[1,2,np.nan],\n",
    "                  'B':[5,np.nan,np.nan],\n",
    "                  'C':[1,2,3]})\n",
    "df"
   ]
  },
  {
   "cell_type": "code",
   "execution_count": null,
   "metadata": {},
   "outputs": [],
   "source": [
    "df.dropna()\n",
    "\n",
    "#default axix=0 --> for rows"
   ]
  },
  {
   "cell_type": "code",
   "execution_count": null,
   "metadata": {},
   "outputs": [],
   "source": [
    "df.dropna(axis=1)"
   ]
  },
  {
   "cell_type": "code",
   "execution_count": null,
   "metadata": {},
   "outputs": [],
   "source": [
    "df.dropna(thresh=2)"
   ]
  },
  {
   "cell_type": "code",
   "execution_count": null,
   "metadata": {},
   "outputs": [],
   "source": [
    "df.fillna(value='FILL VALUE')"
   ]
  },
  {
   "cell_type": "code",
   "execution_count": null,
   "metadata": {},
   "outputs": [],
   "source": [
    "mean_A = df[\"A\"].mean() # Computes the mean of A\n",
    "\n",
    "\n",
    "df['A'].fillna(value=mean_A)"
   ]
  },
  {
   "cell_type": "markdown",
   "metadata": {},
   "source": [
    "# Merging, Joining, and Concatenating\n",
    "\n",
    "There are 3 main ways of combining DataFrames together: **Merging, Joining and Concatenating.**"
   ]
  },
  {
   "cell_type": "markdown",
   "metadata": {},
   "source": [
    "### Example DataFrames"
   ]
  },
  {
   "cell_type": "code",
   "execution_count": 128,
   "metadata": {},
   "outputs": [
    {
     "name": "stdout",
     "output_type": "stream",
     "text": [
      "                       Time  laser\n",
      "0   2020-03-09 17:09:54.295   22.5\n",
      "1   2020-03-09 17:09:54.299   22.5\n",
      "2   2020-03-09 17:09:54.303   22.5\n",
      "3   2020-03-09 17:09:54.308   22.5\n",
      "4   2020-03-09 17:09:54.314   22.5\n",
      "..                      ...    ...\n",
      "703 2020-03-09 17:10:16.551   22.2\n",
      "704 2020-03-09 17:10:16.583   22.2\n",
      "705 2020-03-09 17:10:16.615   22.2\n",
      "706 2020-03-09 17:10:16.647   22.2\n",
      "707 2020-03-09 17:10:16.678   22.2\n",
      "\n",
      "[708 rows x 2 columns]\n",
      "                        Time  US_distance\n",
      "0    2020-03-09 17:09:55.112    25.134438\n",
      "1    2020-03-09 17:09:55.129    25.134438\n",
      "2    2020-03-09 17:09:55.144    25.134438\n",
      "3    2020-03-09 17:09:55.161    25.134438\n",
      "4    2020-03-09 17:09:55.176    25.134438\n",
      "...                      ...          ...\n",
      "1279 2020-03-09 17:10:16.043    24.831875\n",
      "1280 2020-03-09 17:10:16.059    24.814250\n",
      "1281 2020-03-09 17:10:16.075    24.814250\n",
      "1282 2020-03-09 17:10:16.091    24.814250\n",
      "1283 2020-03-09 17:10:16.107    24.814250\n",
      "\n",
      "[1284 rows x 2 columns]\n",
      "                       Time  laser  US_distance\n",
      "0   2020-03-09 17:09:54.295   22.5          NaN\n",
      "1   2020-03-09 17:09:54.299   22.5          NaN\n",
      "2   2020-03-09 17:09:54.303   22.5          NaN\n",
      "3   2020-03-09 17:09:54.308   22.5          NaN\n",
      "4   2020-03-09 17:09:54.314   22.5          NaN\n",
      "..                      ...    ...          ...\n",
      "703 2020-03-09 17:10:16.551   22.2          NaN\n",
      "704 2020-03-09 17:10:16.583   22.2          NaN\n",
      "705 2020-03-09 17:10:16.615   22.2          NaN\n",
      "706 2020-03-09 17:10:16.647   22.2          NaN\n",
      "707 2020-03-09 17:10:16.678   22.2          NaN\n",
      "\n",
      "[708 rows x 3 columns]\n"
     ]
    }
   ],
   "source": [
    "# Installing the packages\n",
    "import numpy as np\n",
    "from datetime import datetime\n",
    "import pandas as pd\n",
    "import matplotlib.pyplot as plt\n",
    "\n",
    "dfl = pd.read_csv('/home/sebastian/laserultra/laser.csv', header = None, delimiter = \",\") # File path description\n",
    "#dfl = pd.read_excel('/home/sebastian/newtest/timedlaser.xlsx', sheet_name='timedlaser', header = None)\n",
    "dfl.columns = [\"Time\",\"hex1\", \"hex2\"]\n",
    "#print(dfl)\n",
    "dfl[\"hex1\"]= dfl[\"hex1\"].astype(str)\n",
    "dfl[\"hex2\"]= dfl[\"hex2\"].astype(str)\n",
    "dfl[\"hex1\"]=dfl[\"hex1\"].apply(int, base=16).apply(bin).str[4:] # Hex to Binary\n",
    "dfl[\"hex2\"]=dfl[\"hex2\"].apply(int, base=16).apply(bin).str[4:] # Hex to Binary\n",
    "#dfl\n",
    "dfl[\"laser\"]= dfl[\"hex1\"] + dfl[\"hex2\"] # Combining Data as per Protocol\n",
    "dfl.laser =(dfl.laser.apply(int,base=2))/10 # Converting Binary to Decimal\n",
    "#dfl.drop(df1.columns[1],axis=1,inplace=True) # Remove hex coloumn\n",
    "#dfl.drop(df1.columns[1],axis=1,inplace=True) # Remove hex coloumn\n",
    "#dfl.drop(df1.columns[1],axis=1,inplace=True) # Remove hex coloumn\n",
    "#dfl.columns = [\"Time\", \"distance\"]\n",
    "dfl[\"Time\"] = pd.to_datetime(dfl[\"Time\"])\n",
    "dfl.drop(dfl.columns[1],axis=1,inplace=True) # Remove hex coloumn\n",
    "dfl.drop(dfl.columns[1],axis=1,inplace=True) # Remove hex coloumn\n",
    "\n",
    "print(dfl)    \n",
    "#print(type(dfl.Time[1]))\n",
    "dfl.to_csv('/home/sebastian/laserultra/laser_final.csv') # Transform file into .csv file\n",
    "\n",
    "dfu= pd.read_csv('/home/sebastian/laserultra/ultra.csv', header = None, delimiter = \",\") # File path description\n",
    "dfu.columns = [\"Time\",\"analog_input\"]\n",
    "dfu[\"analog_input\"]= dfu[\"analog_input\"].astype(str)\n",
    "dfu[\"Time\"] = pd.to_datetime(dfu[\"Time\"], unit = 'ms')\n",
    "b16 = lambda x: int(x,16)\n",
    "#dfu[\"decimal\"] = dfu[\"analog_input\"].apply(int, base=16) # Hex to Decimal\n",
    "dfu[\"decimal\"] = dfu[\"analog_input\"].apply(b16) # Hex to Decimal\n",
    "dfu[\"US_distance\"] =((dfu[\"decimal\"]/1000-4)/16)*(47)+8 # Converting Binary to Decimal\n",
    "#print(dfu)\n",
    "to_drop = [\"decimal\", \"analog_input\"]\n",
    "dfu.drop(to_drop,axis=1,inplace=True) # Remove hex coloumn\n",
    "print(dfu)\n",
    "dfu.to_csv('/home/sebastian/laserultra/ultra_final.csv') # Transform file into .csv file\n",
    "dflu = pd.merge_asof(dfl,dfu, on='Time', tolerance=pd.Timedelta('20ms')) # Merging two dataframes\n",
    "print(dflu)\n",
    "\n",
    "dflu.to_csv('/home/sebastian/laserultra/final.csv') # Transform file into .csv file\n",
    "\n"
   ]
  },
  {
   "cell_type": "code",
   "execution_count": null,
   "metadata": {},
   "outputs": [],
   "source": [
    "# Installing the packages\n",
    "import numpy as np\n",
    "import pandas as pd\n",
    "import matplotlib.pyplot as plt\n",
    "\n",
    "df10 = pd.read_csv('/home/sebastian/newtest/coordinator/analog.csv', header = None) # File path description\n",
    "df10.columns = [\"Time\",\"analog_input\"]\n",
    "df10[\"Time\"] = pd.to_datetime(df10[\"Time\"], unit = 'ms')\n",
    "print(df10)\n",
    "\n",
    "df20 = pd.read_csv('/home/sebastian/newtest/coordinator/twin_position.csv', header = None, delimiter = \";\") # File path description\n",
    "df20.columns = [\"Time\",\"x_co\", \"y_co\"]\n",
    "df20[\"Time\"] = pd.to_datetime(df20[\"Time\"], unit = 'ms')\n",
    "print(df20)\n",
    "\n",
    "df30 = pd.merge_asof(df20,df10, on='Time', tolerance=pd.Timedelta('20ms')) # Merging two dataframes\n",
    "print(df30)\n",
    "df30.isna().sum()\n",
    "#df30.to_csv('/home/sebastian/newtest/formatted/co_analog.csv',index = False) # Transform file into .csv file\n",
    "\n",
    "df2 = pd.read_excel('/home/sebastian/newtest/readings.xlsx', sheet_name='Sheet4', header = None)\n",
    "df2.columns = [\"x\", \"y\", \"z\", \"US\", \"LS\", \"Time\", \"Epoch\"]\n",
    "df2.drop(['z','Time'],axis=1,inplace=True)\n",
    "df2.LS = df2.LS*100 # Convert metres to centimetres\n",
    "df2.US = df2.US*100 # Convert metres to centimetres\n",
    "df2[\"Time\"] = pd.to_datetime(df2[\"Epoch\"], unit = 'ms')\n",
    "#df30[\"Time\"] = pd.to_datetime(df30[\"Time\"], unit = 'ms')\n",
    "df30[\"US_Coordinator\"] =((df30[\"analog_input\"]-4)/16)*(70)+20 # Converting Binary to Decimal\n",
    "\n",
    "\n",
    "#print(type(df30.Time[2]))\n",
    "#print(type(df2.Time[2]))\n",
    "print(df2)\n",
    "\n",
    "df40 = pd.merge_asof(df2,df30, on='Time', tolerance=pd.Timedelta('50ms')) # Merging two dataframes\n",
    "print(df40)\n",
    "df40.isna().sum()\n",
    "df40.to_csv('/home/sebastian/newtest/final/4.csv',index = False) # Transform file into .csv file"
   ]
  },
  {
   "cell_type": "code",
   "execution_count": null,
   "metadata": {},
   "outputs": [],
   "source": [
    "df30 = pd.read_csv('/home/sebastian/newtest/formatted/co_analog.csv') # File path description\n",
    "df2 = pd.read_excel('/home/sebastian/newtest/readings.xlsx', sheet_name='Sheet5', header = None)\n",
    "df2.columns = [\"x\", \"y\", \"z\", \"US\", \"LS\", \"Time\", \"Epoch\"]\n",
    "df2.drop(['z','Time'],axis=1,inplace=True)\n",
    "df2.LS = df2.LS*100 # Convert metres to centimetres\n",
    "df2.US = df2.US*100 # Convert metres to centimetres\n",
    "df2[\"Time\"] = pd.to_datetime(df2[\"Epoch\"], unit = 'ms')\n",
    "df30[\"Time\"] = pd.to_datetime(df30[\"Time\"], unit = 'ms')\n",
    "\n",
    "print(type(df30.Time[2]))\n",
    "print(type(df2.Time[2]))\n",
    "print(df2)\n",
    "\n",
    "df40 = pd.merge_asof(df2,df30, on='Time', tolerance=pd.Timedelta('10ms')) # Merging two dataframes\n",
    "print(df40)\n",
    "df40.isna().sum()\n",
    "#df30.to_csv('/home/sebastian/newtest/formatted/co_analog.csv',index = False) # Transform file into .csv file\n"
   ]
  },
  {
   "cell_type": "code",
   "execution_count": null,
   "metadata": {},
   "outputs": [],
   "source": [
    "# Installing the packages\n",
    "import numpy as np\n",
    "import pandas as pd\n",
    "import matplotlib.pyplot as plt\n",
    "\n",
    "df1 = pd.read_csv('/home/sebastian/newtest/out5.csv', header = None) # File path description\n",
    "#print(df1[1])\n",
    "#df1.drop('hex1',axis=1,inplace=True) \n",
    "#df1.drop_duplicates(keep = 'first', inplace = True) \n",
    "df1[3]=df1[3].apply(int, base=16).apply(bin).str[4:] # Hex to Binary\n",
    "df1[2]=df1[2].apply(int, base=16).apply(bin).str[4:] # Hex to Binary\n",
    "df1\n",
    "#df1.hex2=df1.hex2.apply(int, base=16).apply(bin).str[4:] # Hex to Binary\n",
    "#df1.hex3=df1.hex3.apply(int, base=16).apply(bin).str[4:] # Hex to Binary\n",
    "df1[\"distance\"]= df1[2] + df1[3] # Combining Data as per Protocol\n",
    "df1.distance =(df1.distance.apply(int,base=2))/10 # Converting Binary to Decimal\n",
    "df1.drop(df1.columns[1],axis=1,inplace=True) # Remove hex coloumn\n",
    "df1.drop(df1.columns[1],axis=1,inplace=True) # Remove hex coloumn\n",
    "df1.drop(df1.columns[1],axis=1,inplace=True) # Remove hex coloumn\n",
    "df1.columns = [\"Time\", \"distance\"]\n",
    "print(df1)\n",
    "#print(df1.groupby('Time').count())\n",
    "#df1.to_csv('/home/sebastian/newtest/formatted/out5.csv',index=False) # Transform file into .csv file"
   ]
  },
  {
   "cell_type": "code",
   "execution_count": null,
   "metadata": {},
   "outputs": [],
   "source": [
    "df3 = pd.read_csv('/home/sebastian/newtest/timeddata5.txt', header = None, delimiter = \" \") # File path description\n",
    "df3\n",
    "df3.columns = [\"Time\", \"1\", \"2\", \"3\", \"4\", \"Hex\"]\n",
    "#print(type(df3.Hex[1]))\n",
    "df3.drop('1',axis=1,inplace=True) \n",
    "df3.drop('2',axis=1,inplace=True) \n",
    "df3.drop('3',axis=1,inplace=True) \n",
    "df3.drop('4',axis=1,inplace=True) \n",
    "#df1.drop_duplicates(keep = 'first', inplace = True) \n",
    "#df3['HB']=df3['Hex'].apply(int, base=16).apply(bin).str[-16:] # Hex to Binary\n",
    "df3['HB']=df3['Hex'].str[-2:] # Hex to Binary\n",
    "df3['LB']=df3['Hex'].str[-4:-2] # Hex to Binary\n",
    "df3[\"US_Coordinator_hex\"]= (df3['HB'] + df3['LB']) # Combining Data as per Protocol\n",
    "df3[\"US_Coordinator_bin\"]= (df3['HB'] + df3['LB']).apply(int, base=16).apply(bin) # Combining Data as per Protocol\n",
    "df3[\"US_mA\"] =(df3[\"US_Coordinator_bin\"].apply(int,base=2))/1000 # Converting Binary to Decimal\n",
    "df3.drop(['HB','Hex', 'LB','US_Coordinator_bin', 'US_Coordinator_hex'],axis=1,inplace=True)\n",
    "#df1[2]=df1[2].apply(int, base=16).apply(bin).str[4:] # Hex to Binary\n",
    "df3[\"US_Coordinator\"] =((df3[\"US_mA\"]-4)/16)*(70)+20 # Converting Binary to Decimal\n",
    "df3.drop('US_mA',axis=1,inplace=True) \n",
    "df3.to_csv('/home/sebastian/newtest/formatted/td5.csv',index=False, header = True) # Transform file into .csv file\n",
    "df3"
   ]
  },
  {
   "cell_type": "code",
   "execution_count": null,
   "metadata": {},
   "outputs": [],
   "source": [
    "\n",
    "\n",
    "\n",
    "\n",
    "df2 = pd.read_excel('/home/sebastian/newtest/readings.xlsx', sheet_name='Sheet5', header = None)\n",
    "df2.columns = [\"x\", \"y\", \"z\", \"US\", \"LS\", \"Time\", \"Epoch\"]\n",
    "df2.drop(['z','Time'],axis=1,inplace=True)\n",
    "#df2.drop('Time',axis=1,inplace=True)\n",
    "#df2[\"Epoch\"] = pd.to_datetime(df2[\"Epoch\"], unit = 'ms')\n",
    "#df2[['Date','Milli']] = df2.Epoch.split(\"_\",expand=True)\n",
    "#df2 = pd.read_csv('/home/sebastian/newtest/riot10.csv') # File path description\n",
    "#df2.drop_duplicates(keep = 'first', inplace = True) \n",
    "df2.LS = df2.LS*100 # Convert metres to centimetres\n",
    "df2.US = df2.US*100 # Convert metres to centimetres\n",
    "#df2.to_csv('/home/sebastian/newtest/formatted/5.csv',index = False, header = None) # Transform file into .csv file\n",
    "#print(df2.groupby('Time').count())\n",
    "print(df2)\n",
    "\n"
   ]
  },
  {
   "cell_type": "code",
   "execution_count": 35,
   "metadata": {},
   "outputs": [
    {
     "name": "stdout",
     "output_type": "stream",
     "text": [
      "<class 'str'>\n",
      "             Time  distance\n",
      "0    14:01:23.663      27.7\n",
      "1    14:01:23.668      27.7\n",
      "2    14:01:23.673      27.7\n",
      "3    14:01:23.678      27.7\n",
      "4    14:01:23.685      27.7\n",
      "..            ...       ...\n",
      "248  14:01:31.454     102.1\n",
      "249  14:01:31.502     102.1\n",
      "250  14:01:31.518     102.1\n",
      "251  14:01:31.551     102.1\n",
      "252  14:01:31.600     102.0\n",
      "\n",
      "[253 rows x 2 columns]\n",
      "            Time         x         y         US     LS\n",
      "0   14:01:24.715 -2.297915 -0.240721  29.471875   28.3\n",
      "1   14:01:24.765 -2.299044 -0.236816  29.471875   28.3\n",
      "2   14:01:24.815 -2.299269 -0.234192  29.471875   28.3\n",
      "3   14:01:24.865 -2.298502 -0.231728  29.471875   28.3\n",
      "4   14:01:24.915 -2.297953 -0.230009  29.471875   28.3\n",
      "..           ...       ...       ...        ...    ...\n",
      "80  14:01:28.715 -2.447650  0.262504  90.000000  102.6\n",
      "81  14:01:28.765 -2.449451  0.240663  90.000000  102.5\n",
      "82  14:01:28.815 -2.452001  0.213180  90.000000  102.5\n",
      "83  14:01:28.865 -2.455372  0.191610  90.000000  102.5\n",
      "84  14:01:28.915 -2.458009  0.183340  90.000000  102.5\n",
      "\n",
      "[85 rows x 5 columns]\n",
      "                      Time         x         y         US     LS  distance\n",
      "0  2020-03-09 14:01:24.715 -2.297915 -0.240721  29.471875   28.3      27.7\n",
      "1  2020-03-09 14:01:24.765 -2.299044 -0.236816  29.471875   28.3      27.7\n",
      "2  2020-03-09 14:01:24.815 -2.299269 -0.234192  29.471875   28.3      27.8\n",
      "3  2020-03-09 14:01:24.865 -2.298502 -0.231728  29.471875   28.3      27.8\n",
      "4  2020-03-09 14:01:24.915 -2.297953 -0.230009  29.471875   28.3      27.8\n",
      "..                     ...       ...       ...        ...    ...       ...\n",
      "80 2020-03-09 14:01:28.715 -2.447650  0.262504  90.000000  102.6     102.2\n",
      "81 2020-03-09 14:01:28.765 -2.449451  0.240663  90.000000  102.5     102.2\n",
      "82 2020-03-09 14:01:28.815 -2.452001  0.213180  90.000000  102.5     102.1\n",
      "83 2020-03-09 14:01:28.865 -2.455372  0.191610  90.000000  102.5     102.1\n",
      "84 2020-03-09 14:01:28.915 -2.458009  0.183340  90.000000  102.5     102.1\n",
      "\n",
      "[85 rows x 6 columns]\n"
     ]
    },
    {
     "data": {
      "image/png": "[encoded data removed]",
      "text/plain": [
       "<Figure size 432x288 with 1 Axes>"
      ]
     },
     "metadata": {
      "needs_background": "light"
     },
     "output_type": "display_data"
    }
   ],
   "source": [
    "df1 = pd.read_csv('/home/sebastian/newtest/formatted/out5.csv') # File path description\n",
    "df2 = pd.read_csv('/home/sebastian/newtest/formatted/5.csv', header = None) # File path description\n",
    "#df3 = pd.read_csv('/home/sebastian/newtest/formatted/td5.csv') # File path description\n",
    "df2.columns = [\"x\", \"y\", \"US\", \"LS\", \"Time\"]\n",
    "cols = df2.columns.tolist()\n",
    "#print(cols)\n",
    "cols = cols[-1:] + cols[:-1]\n",
    "df2 = df2[cols]\n",
    "print(type(df1.Time[2]))\n",
    "print(df1)\n",
    "print(df2)\n",
    "#print(df3)\n",
    "df1['Time']= pd.to_datetime(df1['Time'])\n",
    "df2['Time']= pd.to_datetime(df2['Time'])\n",
    "#df3['Time']= pd.to_datetime(df3['Time'])\n",
    "#print(type(df1.Time))\n",
    "#df3 = pd.merge(df1,df2,how='left',on='Time') # Merging two dataframes\n",
    "df4 = pd.merge_asof(df2,df1, on='Time', tolerance=pd.Timedelta('50ms')) # Merging two dataframes\n",
    "#df5 = pd.merge_asof(df4,df1, on='Time', tolerance=pd.Timedelta('50ms')) # Merging two dataframes\n",
    "#df3.drop_duplicates(keep = 'first', inplace = True) \n",
    "print(df4)\n",
    "#print(df5)\n",
    "\n",
    "ax = plt.gca()\n",
    "df4.plot(kind='line',x='Time',y='distance',color='red',ax=ax)\n",
    "df4.plot(kind='line',x='Time',y='US', color='blue',ax=ax)\n",
    "df4.plot(kind='line',x='Time',y='LS', color='black', ax=ax)\n",
    "#df4.plot(kind='line',x='Time',y='US_Coordinator', color='green', ax=ax)\n",
    "plt.show()\n",
    "\n",
    "df4.to_csv('/home/sebastian/newtest/final/df4.csv',index=False) # Transform file into .csv file\n",
    "#df5.to_csv('/home/sebastian/newtest/final/df5.csv',index=False) # Transform file into .csv file\n",
    "#df3.to_excel('Final_file.xlsx',sheet_name='Sheet10')"
   ]
  },
  {
   "cell_type": "code",
   "execution_count": null,
   "metadata": {},
   "outputs": [],
   "source": [
    "#df.at[]\n",
    "#df1['bin1'] = bin(int(str(df1['hex1']), 16))[2:].zfill(8)\n",
    "#print(df1)\n",
    "#df2 = pd.read_csv('out1.csv') # File path description\n",
    "#df2.drop_duplicates(keep = 'first', inplace = True) \n",
    "#print(df2)\n",
    "#df3 = pd.merge(df1,df2,how='inner',on='Time')\n",
    "#df3.drop_duplicates(keep = 'first', inplace = True) \n",
    "#df3\n",
    "#df1.loc['14:46:39']\n",
    "#df3.to_csv('combined.csv',index=False) # Transform file into .csv file\n",
    "#df1 = pd.DataFrame({'A': ['A0', 'A1', 'A2', 'A3'],\n",
    " #                       'B': ['B0', 'B1', 'B2', 'B3'],\n",
    "#                        'C': ['C0', 'C1', 'C2', 'C3'],\n",
    "#                        'D': ['D0', 'D1', 'D2', 'D3']},\n",
    "#                        index=[0, 1, 2, 3])\n",
    "#df1"
   ]
  },
  {
   "cell_type": "code",
   "execution_count": null,
   "metadata": {},
   "outputs": [],
   "source": [
    "df2 = pd.DataFrame({'A': ['A4', 'A5', 'A6', 'A7'],\n",
    "                        'B': ['B4', 'B5', 'B6', 'B7'],\n",
    "                        'C': ['C4', 'C5', 'C6', 'C7'],\n",
    "                        'D': ['D4', 'D5', 'D6', 'D7']},\n",
    "                         index=[4, 5, 6, 7]) \n",
    "df2"
   ]
  },
  {
   "cell_type": "code",
   "execution_count": null,
   "metadata": {},
   "outputs": [],
   "source": [
    "df3 = pd.DataFrame({'A': ['A8', 'A9', 'A10', 'A11'],\n",
    "                        'B': ['B8', 'B9', 'B10', 'B11'],\n",
    "                        'C': ['C8', 'C9', 'C10', 'C11'],\n",
    "                        'D': ['D8', 'D9', 'D10', 'D11']},\n",
    "                        index=[8, 9, 10, 11])\n",
    "df3"
   ]
  },
  {
   "cell_type": "markdown",
   "metadata": {},
   "source": [
    "## Concatenation\n",
    "\n",
    "Concatenation basically glues together DataFrames. Keep in mind that dimensions should match along the axis you are concatenating on. You can use **pd.concat** and pass in a list of DataFrames to concatenate together:"
   ]
  },
  {
   "cell_type": "code",
   "execution_count": null,
   "metadata": {},
   "outputs": [],
   "source": [
    "pd.concat([df1,df2,df3])"
   ]
  },
  {
   "cell_type": "code",
   "execution_count": null,
   "metadata": {},
   "outputs": [],
   "source": [
    "pd.concat([df1,df2,df3],axis=1)"
   ]
  },
  {
   "cell_type": "markdown",
   "metadata": {},
   "source": [
    "## Merging\n",
    "\n",
    "The **merge** function allows you to merge DataFrames together using a similar logic as merging SQL Tables together. For example:"
   ]
  },
  {
   "cell_type": "markdown",
   "metadata": {},
   "source": [
    "![title](img/joins.png)"
   ]
  },
  {
   "cell_type": "markdown",
   "metadata": {},
   "source": [
    "## Example DataFrames"
   ]
  },
  {
   "cell_type": "code",
   "execution_count": null,
   "metadata": {},
   "outputs": [],
   "source": [
    "left = pd.DataFrame({'key': ['K0','K0', 'K1','K1','K2', 'K2', 'K3'],\n",
    "                     'A': ['A0', 'A1', 'A2', 'A3', 'A4', 'A5', 'A6'],\n",
    "                     'B': ['B0', 'B1', 'B2', 'B3', 'B4', 'B5', 'B6']})\n",
    "   \n",
    "right = pd.DataFrame({'key': ['K0', 'K1', 'K2', 'K3'],\n",
    "                          'C': ['C0', 'C1', 'C2', 'C3'],\n",
    "                          'D': ['D0', 'D1', 'D2', 'D3']})    "
   ]
  },
  {
   "cell_type": "code",
   "execution_count": null,
   "metadata": {},
   "outputs": [],
   "source": [
    "left"
   ]
  },
  {
   "cell_type": "code",
   "execution_count": null,
   "metadata": {},
   "outputs": [],
   "source": [
    "right"
   ]
  },
  {
   "cell_type": "code",
   "execution_count": null,
   "metadata": {},
   "outputs": [],
   "source": [
    "pd.concat([left, right],axis=1)"
   ]
  },
  {
   "cell_type": "code",
   "execution_count": null,
   "metadata": {},
   "outputs": [],
   "source": [
    "pd.merge(left,right,how='right',on='key')"
   ]
  },
  {
   "cell_type": "markdown",
   "metadata": {},
   "source": [
    "## Joining\n",
    "Joining is a convenient method for combining the columns of two potentially differently-indexed DataFrames into a single result DataFrame."
   ]
  },
  {
   "cell_type": "code",
   "execution_count": null,
   "metadata": {},
   "outputs": [],
   "source": [
    "left = pd.DataFrame({'A': ['A0', 'A1', 'A2'],\n",
    "                     'B': ['B0', 'B1', 'B2']},\n",
    "                      index=['K0', 'K1', 'K2']) \n",
    "\n",
    "right = pd.DataFrame({'C': ['C0', 'C2', 'C3'],\n",
    "                    'D': ['D0', 'D2', 'D3']},\n",
    "                      index=['K0', 'K2', 'K3'])"
   ]
  },
  {
   "cell_type": "code",
   "execution_count": null,
   "metadata": {},
   "outputs": [],
   "source": [
    "left"
   ]
  },
  {
   "cell_type": "code",
   "execution_count": null,
   "metadata": {},
   "outputs": [],
   "source": [
    "right"
   ]
  },
  {
   "cell_type": "code",
   "execution_count": null,
   "metadata": {},
   "outputs": [],
   "source": [
    "left.join(right)"
   ]
  },
  {
   "cell_type": "code",
   "execution_count": null,
   "metadata": {},
   "outputs": [],
   "source": [
    "left.join(right, how='outer')"
   ]
  },
  {
   "cell_type": "markdown",
   "metadata": {},
   "source": [
    "# Operations\n",
    "\n",
    "There are lots of operations with pandas that will be really useful to you, but don't fall into any distinct category. Let's show them here in this lecture:"
   ]
  },
  {
   "cell_type": "code",
   "execution_count": null,
   "metadata": {},
   "outputs": [],
   "source": [
    "df = pd.DataFrame({'col1':[1,2,3,4],'col2':[444,555,666,444],'col3':['abc','def','ghi','xyz']})\n",
    "df.head()"
   ]
  },
  {
   "cell_type": "markdown",
   "metadata": {},
   "source": [
    "### Info on Unique Values"
   ]
  },
  {
   "cell_type": "code",
   "execution_count": null,
   "metadata": {},
   "outputs": [],
   "source": [
    "df['col2'].unique()"
   ]
  },
  {
   "cell_type": "code",
   "execution_count": null,
   "metadata": {},
   "outputs": [],
   "source": [
    "df['col2'].nunique()"
   ]
  },
  {
   "cell_type": "code",
   "execution_count": null,
   "metadata": {},
   "outputs": [],
   "source": [
    "df['col2'].value_counts()"
   ]
  },
  {
   "cell_type": "markdown",
   "metadata": {},
   "source": [
    "### Selecting Data"
   ]
  },
  {
   "cell_type": "code",
   "execution_count": null,
   "metadata": {},
   "outputs": [],
   "source": [
    "#Select from DataFrame using criteria from multiple columns\n",
    "newdf = df[(df['col1']>2) & (df['col2']==444)]\n",
    "newdf"
   ]
  },
  {
   "cell_type": "markdown",
   "metadata": {},
   "source": [
    "### Applying Functions"
   ]
  },
  {
   "cell_type": "code",
   "execution_count": null,
   "metadata": {},
   "outputs": [],
   "source": [
    "def times2(x):\n",
    "    return x*2 # Multiplying entries by 2"
   ]
  },
  {
   "cell_type": "code",
   "execution_count": null,
   "metadata": {},
   "outputs": [],
   "source": [
    "df"
   ]
  },
  {
   "cell_type": "code",
   "execution_count": null,
   "metadata": {},
   "outputs": [],
   "source": [
    "df['col1'].apply(times2) # Here the magic word is: apply"
   ]
  },
  {
   "cell_type": "code",
   "execution_count": null,
   "metadata": {},
   "outputs": [],
   "source": [
    "df['col1'].sum()"
   ]
  },
  {
   "cell_type": "code",
   "execution_count": null,
   "metadata": {},
   "outputs": [],
   "source": [
    "df.sort_values(by='col2') # NOTE: inplace=False by default"
   ]
  },
  {
   "cell_type": "markdown",
   "metadata": {},
   "source": [
    "Find Null Values or Check for Null Values"
   ]
  },
  {
   "cell_type": "code",
   "execution_count": null,
   "metadata": {},
   "outputs": [],
   "source": [
    "df.isnull()"
   ]
  },
  {
   "cell_type": "markdown",
   "metadata": {},
   "source": [
    "# OMG! My head burns...let's have a quick'n dirty challenge to fresh things up\n",
    "\n",
    "### And to make it interesting let's talk about moooooooney... or with other words about salaries ;-)\n",
    "\n",
    "We will be using the [SF Salaries Dataset](https://www.kaggle.com/kaggle/sf-salaries) from Kaggle. "
   ]
  },
  {
   "cell_type": "markdown",
   "metadata": {},
   "source": [
    "**Import pandas as pd.**"
   ]
  },
  {
   "cell_type": "code",
   "execution_count": null,
   "metadata": {},
   "outputs": [],
   "source": [
    "import pandas as pd"
   ]
  },
  {
   "cell_type": "markdown",
   "metadata": {},
   "source": [
    "**Read Salaries.csv as a dataframe called sal**"
   ]
  },
  {
   "cell_type": "code",
   "execution_count": null,
   "metadata": {},
   "outputs": [],
   "source": [
    "# Write your code here\n",
    "sal = pd.read_csv('pd_other/Salaries.csv')"
   ]
  },
  {
   "cell_type": "markdown",
   "metadata": {},
   "source": [
    "**Check the head of the DataFrame**"
   ]
  },
  {
   "cell_type": "code",
   "execution_count": null,
   "metadata": {},
   "outputs": [],
   "source": [
    "# Write your code here\n",
    "sal.head()"
   ]
  },
  {
   "cell_type": "markdown",
   "metadata": {},
   "source": [
    "**Use the .info() method to find out how many entries there are.**"
   ]
  },
  {
   "cell_type": "code",
   "execution_count": null,
   "metadata": {},
   "outputs": [],
   "source": [
    "# Write your code here\n",
    "sal.info()"
   ]
  },
  {
   "cell_type": "markdown",
   "metadata": {},
   "source": [
    "Hint:\n",
    "(1) astype(float) method\n",
    "df['DataFrame Column'] = df['DataFrame Column'].astype(float)\n",
    "\n",
    "(2) to_numeric method\n",
    "df['DataFrame Column'] = pd.to_numeric(df['DataFrame Column'],errors='coerce')"
   ]
  },
  {
   "cell_type": "markdown",
   "metadata": {},
   "source": [
    "**What is the average BasePay ?**"
   ]
  },
  {
   "cell_type": "code",
   "execution_count": null,
   "metadata": {},
   "outputs": [],
   "source": [
    "# Write your code here\n",
    "mean_val = np.mean(sal.BasePay)\n",
    "print(mean_val)"
   ]
  },
  {
   "cell_type": "markdown",
   "metadata": {},
   "source": [
    "**What is the job title of  Albert Pardini? Note: Use all caps, otherwise you may get an answer that doesn't match up (there is also a lowercase Albert Pardini)**"
   ]
  },
  {
   "cell_type": "code",
   "execution_count": null,
   "metadata": {},
   "outputs": [],
   "source": [
    "# Write your code here\n",
    "name = (\"Albert Pardini\").upper()\n",
    "\n",
    "var1 = sal[sal.EmployeeName == name]\n",
    "title = var1.JobTitle\n",
    "title"
   ]
  },
  {
   "cell_type": "markdown",
   "metadata": {},
   "source": [
    "**What is the name of highest paid person (including benefits)?**"
   ]
  },
  {
   "cell_type": "code",
   "execution_count": null,
   "metadata": {},
   "outputs": [],
   "source": [
    "# Write your code here\n",
    "max_sal = sal[\"TotalPayBenefits\"].max()\n",
    "sal[sal.TotalPayBenefits == max_sal ].EmployeeName"
   ]
  },
  {
   "cell_type": "markdown",
   "metadata": {},
   "source": [
    "**What is the name of lowest paid person (including benefits)? Do you notice something strange about how much he or she is paid?**"
   ]
  },
  {
   "cell_type": "code",
   "execution_count": null,
   "metadata": {},
   "outputs": [],
   "source": [
    "# Write your code here\n",
    "min_sal = sal.TotalPayBenefits.min()\n",
    "sal[sal.TotalPayBenefits == min_sal]"
   ]
  },
  {
   "cell_type": "markdown",
   "metadata": {},
   "source": [
    "**How many unique job titles are there?**"
   ]
  },
  {
   "cell_type": "code",
   "execution_count": null,
   "metadata": {},
   "outputs": [],
   "source": [
    "# Write your code here\n",
    "unique_jobs = sal.JobTitle.nunique()\n",
    "print(f\"There are in total: {unique_jobs} unique jobs\")"
   ]
  },
  {
   "cell_type": "markdown",
   "metadata": {},
   "source": [
    "**What are the top 5 most common jobs?**"
   ]
  },
  {
   "cell_type": "code",
   "execution_count": null,
   "metadata": {},
   "outputs": [],
   "source": [
    "# Write your code here\n",
    "most_common_jobs = sal[\"JobTitle\"].value_counts().sort_values(ascending=False).head(5)\n",
    "most_common_jobs"
   ]
  },
  {
   "cell_type": "markdown",
   "metadata": {},
   "source": [
    "**Let's visualize this! Create a bar plot showing the 5 most common jobs**\n",
    "\n",
    "Hint, use:\n",
    "\n",
    "    df.plot.bar()\n",
    "Can you change the plot size to take more horizontal space?"
   ]
  },
  {
   "cell_type": "code",
   "execution_count": null,
   "metadata": {},
   "outputs": [],
   "source": [
    "ax = most_common_jobs.plot.bar(figsize=(10,5))\n",
    "ax.set_ylabel(\"Number of employees\")"
   ]
  },
  {
   "cell_type": "markdown",
   "metadata": {},
   "source": [
    "**How many people have the word Chief in their job title?**\n",
    "\n",
    "#### Hint: Checkout the str.contains method ; - ) "
   ]
  },
  {
   "cell_type": "code",
   "execution_count": null,
   "metadata": {},
   "outputs": [],
   "source": [
    "# Write your code here\n",
    "JobTitle_list = sal['JobTitle'].tolist()\n",
    "JobTitle_list"
   ]
  },
  {
   "cell_type": "code",
   "execution_count": null,
   "metadata": {},
   "outputs": [],
   "source": [
    "# Write your code here\n",
    "sal[\"JobTitle\"].str.contains('Chief').sum()"
   ]
  }
 ],
 "metadata": {
  "kernelspec": {
   "display_name": "Python 3",
   "language": "python",
   "name": "python3"
  },
  "language_info": {
   "codemirror_mode": {
    "name": "ipython",
    "version": 3
   },
   "file_extension": ".py",
   "mimetype": "text/x-python",
   "name": "python",
   "nbconvert_exporter": "python",
   "pygments_lexer": "ipython3",
   "version": "3.7.4"
  }
 },
 "nbformat": 4,
 "nbformat_minor": 1
}
